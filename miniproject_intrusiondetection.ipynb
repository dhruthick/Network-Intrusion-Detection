{
  "nbformat": 4,
  "nbformat_minor": 0,
  "metadata": {
    "colab": {
      "name": "miniproject_intrusiondetection.ipynb",
      "provenance": [],
      "collapsed_sections": [],
      "authorship_tag": "ABX9TyMVzKPf1IubTamM5JfP+7+L",
      "include_colab_link": true
    },
    "kernelspec": {
      "name": "python3",
      "display_name": "Python 3"
    }
  },
  "cells": [
    {
      "cell_type": "markdown",
      "metadata": {
        "id": "view-in-github",
        "colab_type": "text"
      },
      "source": [
        "<a href=\"https://colab.research.google.com/github/dhruthick/Network-Intrusion-Detection/blob/master/miniproject_intrusiondetection.ipynb\" target=\"_parent\"><img src=\"https://colab.research.google.com/assets/colab-badge.svg\" alt=\"Open In Colab\"/></a>"
      ]
    },
    {
      "cell_type": "markdown",
      "metadata": {
        "id": "ezhMG24ZQYWQ",
        "colab_type": "text"
      },
      "source": [
        "#Network Intrusion detection"
      ]
    },
    {
      "cell_type": "code",
      "metadata": {
        "id": "ifbTNPew1qp2",
        "colab_type": "code",
        "colab": {
          "base_uri": "https://localhost:8080/",
          "height": 160
        },
        "outputId": "0c42fc25-64a0-4c9d-c5c6-50222548390d"
      },
      "source": [
        "import pandas as pd\n",
        "import numpy as np\n",
        "import matplotlib.pyplot as plt\n",
        "import seaborn as sns\n",
        "from google.colab import drive\n",
        "drive.mount('/content/drive')"
      ],
      "execution_count": null,
      "outputs": [
        {
          "output_type": "stream",
          "text": [
            "/usr/local/lib/python3.6/dist-packages/statsmodels/tools/_testing.py:19: FutureWarning: pandas.util.testing is deprecated. Use the functions in the public API at pandas.testing instead.\n",
            "  import pandas.util.testing as tm\n"
          ],
          "name": "stderr"
        },
        {
          "output_type": "stream",
          "text": [
            "Go to this URL in a browser: https://accounts.google.com/o/oauth2/auth?client_id=947318989803-6bn6qk8qdgf4n4g3pfee6491hc0brc4i.apps.googleusercontent.com&redirect_uri=urn%3aietf%3awg%3aoauth%3a2.0%3aoob&response_type=code&scope=email%20https%3a%2f%2fwww.googleapis.com%2fauth%2fdocs.test%20https%3a%2f%2fwww.googleapis.com%2fauth%2fdrive%20https%3a%2f%2fwww.googleapis.com%2fauth%2fdrive.photos.readonly%20https%3a%2f%2fwww.googleapis.com%2fauth%2fpeopleapi.readonly\n",
            "\n",
            "Enter your authorization code:\n",
            "··········\n",
            "Mounted at /content/drive\n"
          ],
          "name": "stdout"
        }
      ]
    },
    {
      "cell_type": "code",
      "metadata": {
        "id": "B_TpF7V_EnWT",
        "colab_type": "code",
        "colab": {}
      },
      "source": [
        "import pandas as pd\n",
        "import numpy as np\n",
        "\n",
        "#for data pre processing and dimensionality reduction\n",
        "from sklearn.decomposition import PCA\n",
        "from sklearn.preprocessing import OneHotEncoder, StandardScaler\n",
        "from sklearn.compose import ColumnTransformer\n",
        "from sklearn.manifold import TSNE\n",
        "from sklearn.pipeline import Pipeline\n",
        "\n",
        "# various classification models\n",
        "from sklearn.neighbors import KNeighborsClassifier\n",
        "from sklearn.naive_bayes import GaussianNB, MultinomialNB\n",
        "from sklearn.linear_model import LogisticRegression\n",
        "from sklearn.tree import DecisionTreeClassifier\n",
        "from sklearn.ensemble import RandomForestClassifier, GradientBoostingClassifier\n",
        "from sklearn.svm import SVC\n",
        "from sklearn.model_selection import GridSearchCV, cross_val_score,\\\n",
        "    train_test_split, StratifiedKFold\n",
        "\n",
        "#for  evaluation\n",
        "from sklearn.metrics import confusion_matrix, roc_auc_score, classification_report,accuracy_score\n",
        "\n",
        "# for data visualization\n",
        "import seaborn as sns\n",
        "import matplotlib.pyplot as plt"
      ],
      "execution_count": null,
      "outputs": []
    },
    {
      "cell_type": "markdown",
      "metadata": {
        "id": "9ViVK6H4TN_X",
        "colab_type": "text"
      },
      "source": [
        "##Loading the dataset\n",
        "The UNSW website provdies separate datasets that are sampled from the larger dataset (2.5 million in size) for network intrusion detetction as training and test set. The size of the training and test sets are described below."
      ]
    },
    {
      "cell_type": "code",
      "metadata": {
        "id": "xHtqt89lFhOm",
        "colab_type": "code",
        "colab": {}
      },
      "source": [
        "path=\"/content/drive/My Drive/DDoS attack - Mini Project\""
      ],
      "execution_count": null,
      "outputs": []
    },
    {
      "cell_type": "code",
      "metadata": {
        "id": "2qXclSKkWxin",
        "colab_type": "code",
        "colab": {
          "base_uri": "https://localhost:8080/",
          "height": 52
        },
        "outputId": "4d02aa30-3819-4532-e3ed-b55b998f1dcb"
      },
      "source": [
        "path=\"/content/drive/My Drive/DDoS attack - Mini Project\"\n",
        "nX=pd.read_csv(path+\"/nb15unpretrain.csv\")\n",
        "nX_test=pd.read_csv(path+\"/nb15unpretest.csv\")\n",
        "\n",
        "print(\"Training set size:\",nX.shape)\n",
        "print(\"Test set size:\",nX_test.shape)"
      ],
      "execution_count": null,
      "outputs": [
        {
          "output_type": "stream",
          "text": [
            "Training set size: (175341, 45)\n",
            "Test set size: (82332, 45)\n"
          ],
          "name": "stdout"
        }
      ]
    },
    {
      "cell_type": "code",
      "metadata": {
        "id": "IkquiVdEXAza",
        "colab_type": "code",
        "colab": {
          "base_uri": "https://localhost:8080/",
          "height": 437
        },
        "outputId": "4fc8dbb6-932e-44e9-bf6f-acd2a6e7c39a"
      },
      "source": [
        "nX.head(200)"
      ],
      "execution_count": null,
      "outputs": [
        {
          "output_type": "execute_result",
          "data": {
            "text/html": [
              "<div>\n",
              "<style scoped>\n",
              "    .dataframe tbody tr th:only-of-type {\n",
              "        vertical-align: middle;\n",
              "    }\n",
              "\n",
              "    .dataframe tbody tr th {\n",
              "        vertical-align: top;\n",
              "    }\n",
              "\n",
              "    .dataframe thead th {\n",
              "        text-align: right;\n",
              "    }\n",
              "</style>\n",
              "<table border=\"1\" class=\"dataframe\">\n",
              "  <thead>\n",
              "    <tr style=\"text-align: right;\">\n",
              "      <th></th>\n",
              "      <th>id</th>\n",
              "      <th>dur</th>\n",
              "      <th>proto</th>\n",
              "      <th>service</th>\n",
              "      <th>state</th>\n",
              "      <th>spkts</th>\n",
              "      <th>dpkts</th>\n",
              "      <th>sbytes</th>\n",
              "      <th>dbytes</th>\n",
              "      <th>rate</th>\n",
              "      <th>sttl</th>\n",
              "      <th>dttl</th>\n",
              "      <th>sload</th>\n",
              "      <th>dload</th>\n",
              "      <th>sloss</th>\n",
              "      <th>dloss</th>\n",
              "      <th>sinpkt</th>\n",
              "      <th>dinpkt</th>\n",
              "      <th>sjit</th>\n",
              "      <th>djit</th>\n",
              "      <th>swin</th>\n",
              "      <th>stcpb</th>\n",
              "      <th>dtcpb</th>\n",
              "      <th>dwin</th>\n",
              "      <th>tcprtt</th>\n",
              "      <th>synack</th>\n",
              "      <th>ackdat</th>\n",
              "      <th>smean</th>\n",
              "      <th>dmean</th>\n",
              "      <th>trans_depth</th>\n",
              "      <th>response_body_len</th>\n",
              "      <th>ct_srv_src</th>\n",
              "      <th>ct_state_ttl</th>\n",
              "      <th>ct_dst_ltm</th>\n",
              "      <th>ct_src_dport_ltm</th>\n",
              "      <th>ct_dst_sport_ltm</th>\n",
              "      <th>ct_dst_src_ltm</th>\n",
              "      <th>is_ftp_login</th>\n",
              "      <th>ct_ftp_cmd</th>\n",
              "      <th>ct_flw_http_mthd</th>\n",
              "      <th>ct_src_ltm</th>\n",
              "      <th>ct_srv_dst</th>\n",
              "      <th>is_sm_ips_ports</th>\n",
              "      <th>attack_cat</th>\n",
              "      <th>label</th>\n",
              "    </tr>\n",
              "  </thead>\n",
              "  <tbody>\n",
              "    <tr>\n",
              "      <th>0</th>\n",
              "      <td>1</td>\n",
              "      <td>0.121478</td>\n",
              "      <td>tcp</td>\n",
              "      <td>-</td>\n",
              "      <td>FIN</td>\n",
              "      <td>6</td>\n",
              "      <td>4</td>\n",
              "      <td>258</td>\n",
              "      <td>172</td>\n",
              "      <td>74.087490</td>\n",
              "      <td>252</td>\n",
              "      <td>254</td>\n",
              "      <td>14158.942380</td>\n",
              "      <td>8.495365e+03</td>\n",
              "      <td>0</td>\n",
              "      <td>0</td>\n",
              "      <td>24.295600</td>\n",
              "      <td>8.375000</td>\n",
              "      <td>30.177547</td>\n",
              "      <td>11.830604</td>\n",
              "      <td>255</td>\n",
              "      <td>621772692</td>\n",
              "      <td>2202533631</td>\n",
              "      <td>255</td>\n",
              "      <td>0.000000</td>\n",
              "      <td>0.000000</td>\n",
              "      <td>0.000000</td>\n",
              "      <td>43</td>\n",
              "      <td>43</td>\n",
              "      <td>0</td>\n",
              "      <td>0</td>\n",
              "      <td>1</td>\n",
              "      <td>0</td>\n",
              "      <td>1</td>\n",
              "      <td>1</td>\n",
              "      <td>1</td>\n",
              "      <td>1</td>\n",
              "      <td>0</td>\n",
              "      <td>0</td>\n",
              "      <td>0</td>\n",
              "      <td>1</td>\n",
              "      <td>1</td>\n",
              "      <td>0</td>\n",
              "      <td>Normal</td>\n",
              "      <td>0</td>\n",
              "    </tr>\n",
              "    <tr>\n",
              "      <th>1</th>\n",
              "      <td>2</td>\n",
              "      <td>0.649902</td>\n",
              "      <td>tcp</td>\n",
              "      <td>-</td>\n",
              "      <td>FIN</td>\n",
              "      <td>14</td>\n",
              "      <td>38</td>\n",
              "      <td>734</td>\n",
              "      <td>42014</td>\n",
              "      <td>78.473372</td>\n",
              "      <td>62</td>\n",
              "      <td>252</td>\n",
              "      <td>8395.112305</td>\n",
              "      <td>5.035713e+05</td>\n",
              "      <td>2</td>\n",
              "      <td>17</td>\n",
              "      <td>49.915000</td>\n",
              "      <td>15.432865</td>\n",
              "      <td>61.426934</td>\n",
              "      <td>1387.778330</td>\n",
              "      <td>255</td>\n",
              "      <td>1417884146</td>\n",
              "      <td>3077387971</td>\n",
              "      <td>255</td>\n",
              "      <td>0.000000</td>\n",
              "      <td>0.000000</td>\n",
              "      <td>0.000000</td>\n",
              "      <td>52</td>\n",
              "      <td>1106</td>\n",
              "      <td>0</td>\n",
              "      <td>0</td>\n",
              "      <td>43</td>\n",
              "      <td>1</td>\n",
              "      <td>1</td>\n",
              "      <td>1</td>\n",
              "      <td>1</td>\n",
              "      <td>2</td>\n",
              "      <td>0</td>\n",
              "      <td>0</td>\n",
              "      <td>0</td>\n",
              "      <td>1</td>\n",
              "      <td>6</td>\n",
              "      <td>0</td>\n",
              "      <td>Normal</td>\n",
              "      <td>0</td>\n",
              "    </tr>\n",
              "    <tr>\n",
              "      <th>2</th>\n",
              "      <td>3</td>\n",
              "      <td>1.623129</td>\n",
              "      <td>tcp</td>\n",
              "      <td>-</td>\n",
              "      <td>FIN</td>\n",
              "      <td>8</td>\n",
              "      <td>16</td>\n",
              "      <td>364</td>\n",
              "      <td>13186</td>\n",
              "      <td>14.170161</td>\n",
              "      <td>62</td>\n",
              "      <td>252</td>\n",
              "      <td>1572.271851</td>\n",
              "      <td>6.092923e+04</td>\n",
              "      <td>1</td>\n",
              "      <td>6</td>\n",
              "      <td>231.875571</td>\n",
              "      <td>102.737203</td>\n",
              "      <td>17179.586860</td>\n",
              "      <td>11420.926230</td>\n",
              "      <td>255</td>\n",
              "      <td>2116150707</td>\n",
              "      <td>2963114973</td>\n",
              "      <td>255</td>\n",
              "      <td>0.111897</td>\n",
              "      <td>0.061458</td>\n",
              "      <td>0.050439</td>\n",
              "      <td>46</td>\n",
              "      <td>824</td>\n",
              "      <td>0</td>\n",
              "      <td>0</td>\n",
              "      <td>7</td>\n",
              "      <td>1</td>\n",
              "      <td>2</td>\n",
              "      <td>1</td>\n",
              "      <td>1</td>\n",
              "      <td>3</td>\n",
              "      <td>0</td>\n",
              "      <td>0</td>\n",
              "      <td>0</td>\n",
              "      <td>2</td>\n",
              "      <td>6</td>\n",
              "      <td>0</td>\n",
              "      <td>Normal</td>\n",
              "      <td>0</td>\n",
              "    </tr>\n",
              "    <tr>\n",
              "      <th>3</th>\n",
              "      <td>4</td>\n",
              "      <td>1.681642</td>\n",
              "      <td>tcp</td>\n",
              "      <td>ftp</td>\n",
              "      <td>FIN</td>\n",
              "      <td>12</td>\n",
              "      <td>12</td>\n",
              "      <td>628</td>\n",
              "      <td>770</td>\n",
              "      <td>13.677108</td>\n",
              "      <td>62</td>\n",
              "      <td>252</td>\n",
              "      <td>2740.178955</td>\n",
              "      <td>3.358622e+03</td>\n",
              "      <td>1</td>\n",
              "      <td>3</td>\n",
              "      <td>152.876547</td>\n",
              "      <td>90.235726</td>\n",
              "      <td>259.080172</td>\n",
              "      <td>4991.784669</td>\n",
              "      <td>255</td>\n",
              "      <td>1107119177</td>\n",
              "      <td>1047442890</td>\n",
              "      <td>255</td>\n",
              "      <td>0.000000</td>\n",
              "      <td>0.000000</td>\n",
              "      <td>0.000000</td>\n",
              "      <td>52</td>\n",
              "      <td>64</td>\n",
              "      <td>0</td>\n",
              "      <td>0</td>\n",
              "      <td>1</td>\n",
              "      <td>1</td>\n",
              "      <td>2</td>\n",
              "      <td>1</td>\n",
              "      <td>1</td>\n",
              "      <td>3</td>\n",
              "      <td>1</td>\n",
              "      <td>1</td>\n",
              "      <td>0</td>\n",
              "      <td>2</td>\n",
              "      <td>1</td>\n",
              "      <td>0</td>\n",
              "      <td>Normal</td>\n",
              "      <td>0</td>\n",
              "    </tr>\n",
              "    <tr>\n",
              "      <th>4</th>\n",
              "      <td>5</td>\n",
              "      <td>0.449454</td>\n",
              "      <td>tcp</td>\n",
              "      <td>-</td>\n",
              "      <td>FIN</td>\n",
              "      <td>10</td>\n",
              "      <td>6</td>\n",
              "      <td>534</td>\n",
              "      <td>268</td>\n",
              "      <td>33.373826</td>\n",
              "      <td>254</td>\n",
              "      <td>252</td>\n",
              "      <td>8561.499023</td>\n",
              "      <td>3.987060e+03</td>\n",
              "      <td>2</td>\n",
              "      <td>1</td>\n",
              "      <td>47.750333</td>\n",
              "      <td>75.659602</td>\n",
              "      <td>2415.837634</td>\n",
              "      <td>115.807000</td>\n",
              "      <td>255</td>\n",
              "      <td>2436137549</td>\n",
              "      <td>1977154190</td>\n",
              "      <td>255</td>\n",
              "      <td>0.128381</td>\n",
              "      <td>0.071147</td>\n",
              "      <td>0.057234</td>\n",
              "      <td>53</td>\n",
              "      <td>45</td>\n",
              "      <td>0</td>\n",
              "      <td>0</td>\n",
              "      <td>43</td>\n",
              "      <td>1</td>\n",
              "      <td>2</td>\n",
              "      <td>2</td>\n",
              "      <td>1</td>\n",
              "      <td>40</td>\n",
              "      <td>0</td>\n",
              "      <td>0</td>\n",
              "      <td>0</td>\n",
              "      <td>2</td>\n",
              "      <td>39</td>\n",
              "      <td>0</td>\n",
              "      <td>Normal</td>\n",
              "      <td>0</td>\n",
              "    </tr>\n",
              "    <tr>\n",
              "      <th>...</th>\n",
              "      <td>...</td>\n",
              "      <td>...</td>\n",
              "      <td>...</td>\n",
              "      <td>...</td>\n",
              "      <td>...</td>\n",
              "      <td>...</td>\n",
              "      <td>...</td>\n",
              "      <td>...</td>\n",
              "      <td>...</td>\n",
              "      <td>...</td>\n",
              "      <td>...</td>\n",
              "      <td>...</td>\n",
              "      <td>...</td>\n",
              "      <td>...</td>\n",
              "      <td>...</td>\n",
              "      <td>...</td>\n",
              "      <td>...</td>\n",
              "      <td>...</td>\n",
              "      <td>...</td>\n",
              "      <td>...</td>\n",
              "      <td>...</td>\n",
              "      <td>...</td>\n",
              "      <td>...</td>\n",
              "      <td>...</td>\n",
              "      <td>...</td>\n",
              "      <td>...</td>\n",
              "      <td>...</td>\n",
              "      <td>...</td>\n",
              "      <td>...</td>\n",
              "      <td>...</td>\n",
              "      <td>...</td>\n",
              "      <td>...</td>\n",
              "      <td>...</td>\n",
              "      <td>...</td>\n",
              "      <td>...</td>\n",
              "      <td>...</td>\n",
              "      <td>...</td>\n",
              "      <td>...</td>\n",
              "      <td>...</td>\n",
              "      <td>...</td>\n",
              "      <td>...</td>\n",
              "      <td>...</td>\n",
              "      <td>...</td>\n",
              "      <td>...</td>\n",
              "      <td>...</td>\n",
              "    </tr>\n",
              "    <tr>\n",
              "      <th>195</th>\n",
              "      <td>196</td>\n",
              "      <td>0.001061</td>\n",
              "      <td>udp</td>\n",
              "      <td>dns</td>\n",
              "      <td>CON</td>\n",
              "      <td>2</td>\n",
              "      <td>2</td>\n",
              "      <td>146</td>\n",
              "      <td>178</td>\n",
              "      <td>2827.521083</td>\n",
              "      <td>31</td>\n",
              "      <td>29</td>\n",
              "      <td>550424.125000</td>\n",
              "      <td>6.710650e+05</td>\n",
              "      <td>0</td>\n",
              "      <td>0</td>\n",
              "      <td>0.009000</td>\n",
              "      <td>0.007000</td>\n",
              "      <td>0.000000</td>\n",
              "      <td>0.000000</td>\n",
              "      <td>0</td>\n",
              "      <td>0</td>\n",
              "      <td>0</td>\n",
              "      <td>0</td>\n",
              "      <td>0.000000</td>\n",
              "      <td>0.000000</td>\n",
              "      <td>0.000000</td>\n",
              "      <td>73</td>\n",
              "      <td>89</td>\n",
              "      <td>0</td>\n",
              "      <td>0</td>\n",
              "      <td>8</td>\n",
              "      <td>0</td>\n",
              "      <td>1</td>\n",
              "      <td>2</td>\n",
              "      <td>1</td>\n",
              "      <td>4</td>\n",
              "      <td>0</td>\n",
              "      <td>0</td>\n",
              "      <td>0</td>\n",
              "      <td>4</td>\n",
              "      <td>12</td>\n",
              "      <td>0</td>\n",
              "      <td>Normal</td>\n",
              "      <td>0</td>\n",
              "    </tr>\n",
              "    <tr>\n",
              "      <th>196</th>\n",
              "      <td>197</td>\n",
              "      <td>0.001064</td>\n",
              "      <td>udp</td>\n",
              "      <td>dns</td>\n",
              "      <td>CON</td>\n",
              "      <td>2</td>\n",
              "      <td>2</td>\n",
              "      <td>132</td>\n",
              "      <td>164</td>\n",
              "      <td>2819.548997</td>\n",
              "      <td>31</td>\n",
              "      <td>29</td>\n",
              "      <td>496240.625000</td>\n",
              "      <td>6.165414e+05</td>\n",
              "      <td>0</td>\n",
              "      <td>0</td>\n",
              "      <td>0.009000</td>\n",
              "      <td>0.007000</td>\n",
              "      <td>0.000000</td>\n",
              "      <td>0.000000</td>\n",
              "      <td>0</td>\n",
              "      <td>0</td>\n",
              "      <td>0</td>\n",
              "      <td>0</td>\n",
              "      <td>0.000000</td>\n",
              "      <td>0.000000</td>\n",
              "      <td>0.000000</td>\n",
              "      <td>66</td>\n",
              "      <td>82</td>\n",
              "      <td>0</td>\n",
              "      <td>0</td>\n",
              "      <td>8</td>\n",
              "      <td>0</td>\n",
              "      <td>1</td>\n",
              "      <td>2</td>\n",
              "      <td>1</td>\n",
              "      <td>3</td>\n",
              "      <td>0</td>\n",
              "      <td>0</td>\n",
              "      <td>0</td>\n",
              "      <td>4</td>\n",
              "      <td>3</td>\n",
              "      <td>0</td>\n",
              "      <td>Normal</td>\n",
              "      <td>0</td>\n",
              "    </tr>\n",
              "    <tr>\n",
              "      <th>197</th>\n",
              "      <td>198</td>\n",
              "      <td>0.003081</td>\n",
              "      <td>tcp</td>\n",
              "      <td>ftp-data</td>\n",
              "      <td>FIN</td>\n",
              "      <td>6</td>\n",
              "      <td>8</td>\n",
              "      <td>320</td>\n",
              "      <td>1826</td>\n",
              "      <td>4219.409359</td>\n",
              "      <td>31</td>\n",
              "      <td>29</td>\n",
              "      <td>693281.437500</td>\n",
              "      <td>4.149302e+06</td>\n",
              "      <td>1</td>\n",
              "      <td>2</td>\n",
              "      <td>0.551000</td>\n",
              "      <td>0.363857</td>\n",
              "      <td>30.809398</td>\n",
              "      <td>0.614728</td>\n",
              "      <td>255</td>\n",
              "      <td>2022074493</td>\n",
              "      <td>4180968900</td>\n",
              "      <td>255</td>\n",
              "      <td>0.000665</td>\n",
              "      <td>0.000531</td>\n",
              "      <td>0.000134</td>\n",
              "      <td>53</td>\n",
              "      <td>228</td>\n",
              "      <td>0</td>\n",
              "      <td>0</td>\n",
              "      <td>3</td>\n",
              "      <td>0</td>\n",
              "      <td>10</td>\n",
              "      <td>1</td>\n",
              "      <td>1</td>\n",
              "      <td>4</td>\n",
              "      <td>0</td>\n",
              "      <td>0</td>\n",
              "      <td>0</td>\n",
              "      <td>13</td>\n",
              "      <td>3</td>\n",
              "      <td>0</td>\n",
              "      <td>Normal</td>\n",
              "      <td>0</td>\n",
              "    </tr>\n",
              "    <tr>\n",
              "      <th>198</th>\n",
              "      <td>199</td>\n",
              "      <td>0.001115</td>\n",
              "      <td>udp</td>\n",
              "      <td>dns</td>\n",
              "      <td>CON</td>\n",
              "      <td>2</td>\n",
              "      <td>2</td>\n",
              "      <td>146</td>\n",
              "      <td>178</td>\n",
              "      <td>2690.582979</td>\n",
              "      <td>31</td>\n",
              "      <td>29</td>\n",
              "      <td>523766.812500</td>\n",
              "      <td>6.385650e+05</td>\n",
              "      <td>0</td>\n",
              "      <td>0</td>\n",
              "      <td>0.009000</td>\n",
              "      <td>0.007000</td>\n",
              "      <td>0.000000</td>\n",
              "      <td>0.000000</td>\n",
              "      <td>0</td>\n",
              "      <td>0</td>\n",
              "      <td>0</td>\n",
              "      <td>0</td>\n",
              "      <td>0.000000</td>\n",
              "      <td>0.000000</td>\n",
              "      <td>0.000000</td>\n",
              "      <td>73</td>\n",
              "      <td>89</td>\n",
              "      <td>0</td>\n",
              "      <td>0</td>\n",
              "      <td>6</td>\n",
              "      <td>0</td>\n",
              "      <td>4</td>\n",
              "      <td>2</td>\n",
              "      <td>1</td>\n",
              "      <td>1</td>\n",
              "      <td>0</td>\n",
              "      <td>0</td>\n",
              "      <td>0</td>\n",
              "      <td>2</td>\n",
              "      <td>5</td>\n",
              "      <td>0</td>\n",
              "      <td>Normal</td>\n",
              "      <td>0</td>\n",
              "    </tr>\n",
              "    <tr>\n",
              "      <th>199</th>\n",
              "      <td>200</td>\n",
              "      <td>0.004754</td>\n",
              "      <td>udp</td>\n",
              "      <td>-</td>\n",
              "      <td>CON</td>\n",
              "      <td>4</td>\n",
              "      <td>4</td>\n",
              "      <td>568</td>\n",
              "      <td>312</td>\n",
              "      <td>1472.444295</td>\n",
              "      <td>31</td>\n",
              "      <td>29</td>\n",
              "      <td>716870.000000</td>\n",
              "      <td>3.937737e+05</td>\n",
              "      <td>0</td>\n",
              "      <td>0</td>\n",
              "      <td>1.228000</td>\n",
              "      <td>1.053000</td>\n",
              "      <td>1.728171</td>\n",
              "      <td>1.479267</td>\n",
              "      <td>0</td>\n",
              "      <td>0</td>\n",
              "      <td>0</td>\n",
              "      <td>0</td>\n",
              "      <td>0.000000</td>\n",
              "      <td>0.000000</td>\n",
              "      <td>0.000000</td>\n",
              "      <td>142</td>\n",
              "      <td>78</td>\n",
              "      <td>0</td>\n",
              "      <td>0</td>\n",
              "      <td>4</td>\n",
              "      <td>0</td>\n",
              "      <td>3</td>\n",
              "      <td>1</td>\n",
              "      <td>1</td>\n",
              "      <td>2</td>\n",
              "      <td>0</td>\n",
              "      <td>0</td>\n",
              "      <td>0</td>\n",
              "      <td>4</td>\n",
              "      <td>8</td>\n",
              "      <td>0</td>\n",
              "      <td>Normal</td>\n",
              "      <td>0</td>\n",
              "    </tr>\n",
              "  </tbody>\n",
              "</table>\n",
              "<p>200 rows × 45 columns</p>\n",
              "</div>"
            ],
            "text/plain": [
              "      id       dur proto  ... is_sm_ips_ports attack_cat  label\n",
              "0      1  0.121478   tcp  ...               0     Normal      0\n",
              "1      2  0.649902   tcp  ...               0     Normal      0\n",
              "2      3  1.623129   tcp  ...               0     Normal      0\n",
              "3      4  1.681642   tcp  ...               0     Normal      0\n",
              "4      5  0.449454   tcp  ...               0     Normal      0\n",
              "..   ...       ...   ...  ...             ...        ...    ...\n",
              "195  196  0.001061   udp  ...               0     Normal      0\n",
              "196  197  0.001064   udp  ...               0     Normal      0\n",
              "197  198  0.003081   tcp  ...               0     Normal      0\n",
              "198  199  0.001115   udp  ...               0     Normal      0\n",
              "199  200  0.004754   udp  ...               0     Normal      0\n",
              "\n",
              "[200 rows x 45 columns]"
            ]
          },
          "metadata": {
            "tags": []
          },
          "execution_count": 27
        }
      ]
    },
    {
      "cell_type": "code",
      "metadata": {
        "id": "IBH35WFnZldR",
        "colab_type": "code",
        "colab": {}
      },
      "source": [
        "#id column is  not required\n",
        "nX.drop([\"id\"],axis=1,inplace=True)\n",
        "nX_test.drop([\"id\"],axis=1,inplace=True)"
      ],
      "execution_count": null,
      "outputs": []
    },
    {
      "cell_type": "markdown",
      "metadata": {
        "id": "t1flUzYHVYaQ",
        "colab_type": "text"
      },
      "source": [
        "The dataset consists of 42 features and 2 labelled columns (*attack_cat* and *label*).\n",
        "\n",
        "\n",
        "> *label* states weather the data is of normal flow or that of an attack, with 0 for normal and 1 for attack.\n",
        "\n",
        "> *attack_cat* describes the type of attack (among 9 varieties).\n",
        "\n",
        "\n",
        "\n",
        "\n"
      ]
    },
    {
      "cell_type": "code",
      "metadata": {
        "id": "mByGDHHSU46M",
        "colab_type": "code",
        "colab": {
          "base_uri": "https://localhost:8080/",
          "height": 915
        },
        "outputId": "fff43dea-6ec0-4e97-97ad-384bf5e94cda"
      },
      "source": [
        "nX.info()"
      ],
      "execution_count": null,
      "outputs": [
        {
          "output_type": "stream",
          "text": [
            "<class 'pandas.core.frame.DataFrame'>\n",
            "RangeIndex: 175341 entries, 0 to 175340\n",
            "Data columns (total 44 columns):\n",
            " #   Column             Non-Null Count   Dtype  \n",
            "---  ------             --------------   -----  \n",
            " 0   dur                175341 non-null  float64\n",
            " 1   proto              175341 non-null  object \n",
            " 2   service            175341 non-null  object \n",
            " 3   state              175341 non-null  object \n",
            " 4   spkts              175341 non-null  int64  \n",
            " 5   dpkts              175341 non-null  int64  \n",
            " 6   sbytes             175341 non-null  int64  \n",
            " 7   dbytes             175341 non-null  int64  \n",
            " 8   rate               175341 non-null  float64\n",
            " 9   sttl               175341 non-null  int64  \n",
            " 10  dttl               175341 non-null  int64  \n",
            " 11  sload              175341 non-null  float64\n",
            " 12  dload              175341 non-null  float64\n",
            " 13  sloss              175341 non-null  int64  \n",
            " 14  dloss              175341 non-null  int64  \n",
            " 15  sinpkt             175341 non-null  float64\n",
            " 16  dinpkt             175341 non-null  float64\n",
            " 17  sjit               175341 non-null  float64\n",
            " 18  djit               175341 non-null  float64\n",
            " 19  swin               175341 non-null  int64  \n",
            " 20  stcpb              175341 non-null  int64  \n",
            " 21  dtcpb              175341 non-null  int64  \n",
            " 22  dwin               175341 non-null  int64  \n",
            " 23  tcprtt             175341 non-null  float64\n",
            " 24  synack             175341 non-null  float64\n",
            " 25  ackdat             175341 non-null  float64\n",
            " 26  smean              175341 non-null  int64  \n",
            " 27  dmean              175341 non-null  int64  \n",
            " 28  trans_depth        175341 non-null  int64  \n",
            " 29  response_body_len  175341 non-null  int64  \n",
            " 30  ct_srv_src         175341 non-null  int64  \n",
            " 31  ct_state_ttl       175341 non-null  int64  \n",
            " 32  ct_dst_ltm         175341 non-null  int64  \n",
            " 33  ct_src_dport_ltm   175341 non-null  int64  \n",
            " 34  ct_dst_sport_ltm   175341 non-null  int64  \n",
            " 35  ct_dst_src_ltm     175341 non-null  int64  \n",
            " 36  is_ftp_login       175341 non-null  int64  \n",
            " 37  ct_ftp_cmd         175341 non-null  int64  \n",
            " 38  ct_flw_http_mthd   175341 non-null  int64  \n",
            " 39  ct_src_ltm         175341 non-null  int64  \n",
            " 40  ct_srv_dst         175341 non-null  int64  \n",
            " 41  is_sm_ips_ports    175341 non-null  int64  \n",
            " 42  attack_cat         175341 non-null  object \n",
            " 43  label              175341 non-null  int64  \n",
            "dtypes: float64(11), int64(29), object(4)\n",
            "memory usage: 58.9+ MB\n"
          ],
          "name": "stdout"
        }
      ]
    },
    {
      "cell_type": "code",
      "metadata": {
        "id": "jipEZgsfaEKq",
        "colab_type": "code",
        "colab": {
          "base_uri": "https://localhost:8080/",
          "height": 52
        },
        "outputId": "56bdf226-f825-49f1-e734-ffe279a82096"
      },
      "source": [
        "mask = nX.label == 1\n",
        "print(\"No. of attacks:\", nX[mask].label.size)\n",
        "print(\"No. of normal: \", nX[~mask].label.size)"
      ],
      "execution_count": null,
      "outputs": [
        {
          "output_type": "stream",
          "text": [
            "No. of attacks: 119341\n",
            "No. of normal:  56000\n"
          ],
          "name": "stdout"
        }
      ]
    },
    {
      "cell_type": "code",
      "metadata": {
        "id": "a9S0PAs4W4EN",
        "colab_type": "code",
        "colab": {
          "base_uri": "https://localhost:8080/",
          "height": 35
        },
        "outputId": "18f25652-9b82-48b8-9f2a-eb27c97c74dc"
      },
      "source": [
        "#percentage of attacks in training data\n",
        "np.sum(nX.label == 1)/nX.shape[0]"
      ],
      "execution_count": null,
      "outputs": [
        {
          "output_type": "execute_result",
          "data": {
            "text/plain": [
              "0.6806223302022916"
            ]
          },
          "metadata": {
            "tags": []
          },
          "execution_count": 31
        }
      ]
    },
    {
      "cell_type": "markdown",
      "metadata": {
        "id": "UXq4MXGtXVFC",
        "colab_type": "text"
      },
      "source": [
        "##Data pre-processing\n",
        "the dataset contains 3 nominal features that require encoding\n",
        "\n",
        "\n",
        "> *proto* - denotes the transaction protocol being used\n",
        "\n",
        ">*state* - The state and its dependent protocol, e.g.\n",
        "ACC, CLO, else (-) \n",
        "\n",
        ">*service* - http, ftp, ssh, dns ..,else (-) "
      ]
    },
    {
      "cell_type": "code",
      "metadata": {
        "id": "S2mxxzSHX6xQ",
        "colab_type": "code",
        "colab": {
          "base_uri": "https://localhost:8080/",
          "height": 299
        },
        "outputId": "78bb50c8-1ea9-45d9-f422-56240f7ce88f"
      },
      "source": [
        "print(nX.proto.unique())\n",
        "print(\"No. of unique values:\",nX.proto.unique().size)"
      ],
      "execution_count": null,
      "outputs": [
        {
          "output_type": "stream",
          "text": [
            "['tcp' 'udp' 'arp' 'ospf' 'icmp' 'igmp' 'rtp' 'ddp' 'ipv6-frag' 'cftp'\n",
            " 'wsn' 'pvp' 'wb-expak' 'mtp' 'pri-enc' 'sat-mon' 'cphb' 'sun-nd' 'iso-ip'\n",
            " 'xtp' 'il' 'unas' 'mfe-nsp' '3pc' 'ipv6-route' 'idrp' 'bna' 'swipe'\n",
            " 'kryptolan' 'cpnx' 'rsvp' 'wb-mon' 'vmtp' 'ib' 'dgp' 'eigrp' 'ax.25'\n",
            " 'gmtp' 'pnni' 'sep' 'pgm' 'idpr-cmtp' 'zero' 'rvd' 'mobile' 'narp' 'fc'\n",
            " 'pipe' 'ipcomp' 'ipv6-no' 'sat-expak' 'ipv6-opts' 'snp' 'ipcv'\n",
            " 'br-sat-mon' 'ttp' 'tcf' 'nsfnet-igp' 'sprite-rpc' 'aes-sp3-d' 'sccopmce'\n",
            " 'sctp' 'qnx' 'scps' 'etherip' 'aris' 'pim' 'compaq-peer' 'vrrp' 'iatp'\n",
            " 'stp' 'l2tp' 'srp' 'sm' 'isis' 'smp' 'fire' 'ptp' 'crtp' 'sps'\n",
            " 'merit-inp' 'idpr' 'skip' 'any' 'larp' 'ipip' 'micp' 'encap' 'ifmp'\n",
            " 'tp++' 'a/n' 'ipv6' 'i-nlsp' 'ipx-n-ip' 'sdrp' 'tlsp' 'gre' 'mhrp' 'ddx'\n",
            " 'ippc' 'visa' 'secure-vmtp' 'uti' 'vines' 'crudp' 'iplt' 'ggp' 'ip'\n",
            " 'ipnip' 'st2' 'argus' 'bbn-rcc' 'egp' 'emcon' 'igp' 'nvp' 'pup' 'xnet'\n",
            " 'chaos' 'mux' 'dcn' 'hmp' 'prm' 'trunk-1' 'xns-idp' 'leaf-1' 'leaf-2'\n",
            " 'rdp' 'irtp' 'iso-tp4' 'netblt' 'trunk-2' 'cbt']\n",
            "No. of unique values: 133\n"
          ],
          "name": "stdout"
        }
      ]
    },
    {
      "cell_type": "markdown",
      "metadata": {
        "id": "BWfNXPG_ZEWL",
        "colab_type": "text"
      },
      "source": [
        "The protocol field has 133 unique values. One-hot encoding all of them will add an additional 132 features to the dataset, so, we consider only the four most occurring values (*tcp, udp, unas* and*, arp*) and rename the rest of them as *other*"
      ]
    },
    {
      "cell_type": "code",
      "metadata": {
        "id": "ASCAm4ffadDe",
        "colab_type": "code",
        "colab": {
          "base_uri": "https://localhost:8080/",
          "height": 211
        },
        "outputId": "c2c19b0c-d775-4aed-9625-8f4f5582c0cb"
      },
      "source": [
        "nX.proto.value_counts().head(10)"
      ],
      "execution_count": null,
      "outputs": [
        {
          "output_type": "execute_result",
          "data": {
            "text/plain": [
              "tcp       79946\n",
              "udp       63283\n",
              "unas      12084\n",
              "arp        2859\n",
              "ospf       2595\n",
              "sctp       1150\n",
              "any         300\n",
              "gre         225\n",
              "pim         201\n",
              "sun-nd      201\n",
              "Name: proto, dtype: int64"
            ]
          },
          "metadata": {
            "tags": []
          },
          "execution_count": 33
        }
      ]
    },
    {
      "cell_type": "markdown",
      "metadata": {
        "id": "sXG6uBiuZ1XB",
        "colab_type": "text"
      },
      "source": [
        "In a similar manner we take the 3 most and 2 most occurring values in the *state* and *service* columns and replace the rest with *other*"
      ]
    },
    {
      "cell_type": "code",
      "metadata": {
        "id": "jpdY9bDSbAgA",
        "colab_type": "code",
        "colab": {
          "base_uri": "https://localhost:8080/",
          "height": 193
        },
        "outputId": "92308d31-5dc8-43ca-cf06-c6e36a254a64"
      },
      "source": [
        "nX.state.value_counts()"
      ],
      "execution_count": null,
      "outputs": [
        {
          "output_type": "execute_result",
          "data": {
            "text/plain": [
              "INT    82275\n",
              "FIN    77825\n",
              "CON    13152\n",
              "REQ     1991\n",
              "RST       83\n",
              "ECO       12\n",
              "URN        1\n",
              "no         1\n",
              "PAR        1\n",
              "Name: state, dtype: int64"
            ]
          },
          "metadata": {
            "tags": []
          },
          "execution_count": 34
        }
      ]
    },
    {
      "cell_type": "code",
      "metadata": {
        "id": "7Mfw1EqXbImT",
        "colab_type": "code",
        "colab": {
          "base_uri": "https://localhost:8080/",
          "height": 263
        },
        "outputId": "48c327e3-6901-4169-92fd-d081e6c9cc5d"
      },
      "source": [
        "nX.service.value_counts()"
      ],
      "execution_count": null,
      "outputs": [
        {
          "output_type": "execute_result",
          "data": {
            "text/plain": [
              "-           94168\n",
              "dns         47294\n",
              "http        18724\n",
              "smtp         5058\n",
              "ftp-data     3995\n",
              "ftp          3428\n",
              "ssh          1302\n",
              "pop3         1105\n",
              "dhcp           94\n",
              "snmp           80\n",
              "ssl            56\n",
              "irc            25\n",
              "radius         12\n",
              "Name: service, dtype: int64"
            ]
          },
          "metadata": {
            "tags": []
          },
          "execution_count": 35
        }
      ]
    },
    {
      "cell_type": "code",
      "metadata": {
        "id": "f5YkifRqE4_c",
        "colab_type": "code",
        "colab": {}
      },
      "source": [
        "#function to replace values with \"other\"\n",
        "def reduce_column(s, to_keep):\n",
        "    s = s.lower().strip()\n",
        "    if s not in to_keep:\n",
        "        return 'other'\n",
        "    else:\n",
        "        return s"
      ],
      "execution_count": null,
      "outputs": []
    },
    {
      "cell_type": "code",
      "metadata": {
        "id": "BkM2_1f-d-4k",
        "colab_type": "code",
        "colab": {}
      },
      "source": [
        "transformations = {\n",
        "    'proto':['tcp', 'udp', 'arp', 'unas'],\n",
        "    'state':['fin', 'con', 'int'],\n",
        "    'service':['-', 'dns']\n",
        "}\n",
        "for col, keepers in transformations.items():\n",
        "    nX[col] = nX[col].apply(reduce_column, args=(keepers,))\n",
        "    nX_test[col] = nX_test[col].apply(reduce_column, args=(keepers,))"
      ],
      "execution_count": null,
      "outputs": []
    },
    {
      "cell_type": "markdown",
      "metadata": {
        "id": "5DFM_dvHa_Ta",
        "colab_type": "text"
      },
      "source": [
        "The dataset has 3 nominal features and 2 binary features that do not need to be scaled. Below a pipeline is set up for one-hot encoding and standard scaling the dataset."
      ]
    },
    {
      "cell_type": "code",
      "metadata": {
        "id": "zmRPSRddbNoz",
        "colab_type": "code",
        "colab": {}
      },
      "source": [
        "droppable_cols =[\"attack_cat\"]\n",
        "binary_cols = ['is_sm_ips_ports', 'is_ftp_login']\n",
        "target_cols = ['label']\n",
        "ohe_step = ('ohe', OneHotEncoder(sparse=False))\n",
        "ssc_step = ('std_sclr', StandardScaler())\n",
        "ohe_pipe = Pipeline([ohe_step])\n",
        "ssc_pipe = Pipeline([ssc_step])\n",
        "ohe_cols = ['proto', 'state', 'service']\n",
        "non_ssc_cols = ohe_cols+binary_cols+target_cols+droppable_cols\n",
        "ssc_cols = [col for col in nX.columns if col not in non_ssc_cols]\n",
        "transformer = [\n",
        "    ('one_hot_encoding', ohe_pipe, ohe_cols),\n",
        "    ('standard_scaling', ssc_pipe, ssc_cols)\n",
        "]\n",
        "ct = ColumnTransformer(transformers=transformer, remainder='passthrough')\n",
        "cat_cols = np.concatenate((np.sort(nX.proto.unique()),\n",
        "                           np.sort(nX.state.unique()),\n",
        "                           np.sort(nX.service.unique())))\n",
        "new_cols =  np.concatenate((cat_cols, ssc_cols, binary_cols, target_cols))"
      ],
      "execution_count": null,
      "outputs": []
    },
    {
      "cell_type": "code",
      "metadata": {
        "id": "8EqfDuMfgASj",
        "colab_type": "code",
        "colab": {}
      },
      "source": [
        "#acquiring the training, cross validation, and test sets with labels\n",
        "ny=nX[[\"attack_cat\",\"label\"]]\n",
        "ny_test=nX_test[[\"attack_cat\",\"label\"]]\n",
        "nX_train,nX_cval,ny_train,ny_cval=train_test_split(nX,ny[\"label\"],test_size=0.2,stratify=ny[\"label\"])"
      ],
      "execution_count": null,
      "outputs": []
    },
    {
      "cell_type": "code",
      "metadata": {
        "id": "K6dsOdvweg2X",
        "colab_type": "code",
        "colab": {}
      },
      "source": [
        "#transforming the training, cross validation and test sets\n",
        "nX_train = pd.DataFrame(ct.fit_transform(nX_train.drop(columns=droppable_cols)))\n",
        "nX_train.columns=new_cols\n",
        "nX_cval = pd.DataFrame(ct.transform(nX_cval.drop(columns=droppable_cols)))\n",
        "nX_cval.columns=new_cols\n",
        "nX_test = pd.DataFrame(ct.transform(nX_test.drop(columns=droppable_cols)))\n",
        "nX_test.columns=new_cols"
      ],
      "execution_count": null,
      "outputs": []
    },
    {
      "cell_type": "code",
      "metadata": {
        "id": "MEEw032Sfhaf",
        "colab_type": "code",
        "colab": {
          "base_uri": "https://localhost:8080/",
          "height": 223
        },
        "outputId": "49348371-c5cc-4f0c-9641-9314a9052587"
      },
      "source": [
        "nX_train.head()"
      ],
      "execution_count": null,
      "outputs": [
        {
          "output_type": "execute_result",
          "data": {
            "text/html": [
              "<div>\n",
              "<style scoped>\n",
              "    .dataframe tbody tr th:only-of-type {\n",
              "        vertical-align: middle;\n",
              "    }\n",
              "\n",
              "    .dataframe tbody tr th {\n",
              "        vertical-align: top;\n",
              "    }\n",
              "\n",
              "    .dataframe thead th {\n",
              "        text-align: right;\n",
              "    }\n",
              "</style>\n",
              "<table border=\"1\" class=\"dataframe\">\n",
              "  <thead>\n",
              "    <tr style=\"text-align: right;\">\n",
              "      <th></th>\n",
              "      <th>arp</th>\n",
              "      <th>other</th>\n",
              "      <th>tcp</th>\n",
              "      <th>udp</th>\n",
              "      <th>unas</th>\n",
              "      <th>con</th>\n",
              "      <th>fin</th>\n",
              "      <th>int</th>\n",
              "      <th>other</th>\n",
              "      <th>-</th>\n",
              "      <th>dns</th>\n",
              "      <th>other</th>\n",
              "      <th>dur</th>\n",
              "      <th>spkts</th>\n",
              "      <th>dpkts</th>\n",
              "      <th>sbytes</th>\n",
              "      <th>dbytes</th>\n",
              "      <th>rate</th>\n",
              "      <th>sttl</th>\n",
              "      <th>dttl</th>\n",
              "      <th>sload</th>\n",
              "      <th>dload</th>\n",
              "      <th>sloss</th>\n",
              "      <th>dloss</th>\n",
              "      <th>sinpkt</th>\n",
              "      <th>dinpkt</th>\n",
              "      <th>sjit</th>\n",
              "      <th>djit</th>\n",
              "      <th>swin</th>\n",
              "      <th>stcpb</th>\n",
              "      <th>dtcpb</th>\n",
              "      <th>dwin</th>\n",
              "      <th>tcprtt</th>\n",
              "      <th>synack</th>\n",
              "      <th>ackdat</th>\n",
              "      <th>smean</th>\n",
              "      <th>dmean</th>\n",
              "      <th>trans_depth</th>\n",
              "      <th>response_body_len</th>\n",
              "      <th>ct_srv_src</th>\n",
              "      <th>ct_state_ttl</th>\n",
              "      <th>ct_dst_ltm</th>\n",
              "      <th>ct_src_dport_ltm</th>\n",
              "      <th>ct_dst_sport_ltm</th>\n",
              "      <th>ct_dst_src_ltm</th>\n",
              "      <th>ct_ftp_cmd</th>\n",
              "      <th>ct_flw_http_mthd</th>\n",
              "      <th>ct_src_ltm</th>\n",
              "      <th>ct_srv_dst</th>\n",
              "      <th>is_sm_ips_ports</th>\n",
              "      <th>is_ftp_login</th>\n",
              "      <th>label</th>\n",
              "    </tr>\n",
              "  </thead>\n",
              "  <tbody>\n",
              "    <tr>\n",
              "      <th>0</th>\n",
              "      <td>0.0</td>\n",
              "      <td>1.0</td>\n",
              "      <td>0.0</td>\n",
              "      <td>0.0</td>\n",
              "      <td>0.0</td>\n",
              "      <td>0.0</td>\n",
              "      <td>0.0</td>\n",
              "      <td>1.0</td>\n",
              "      <td>0.0</td>\n",
              "      <td>1.0</td>\n",
              "      <td>0.0</td>\n",
              "      <td>0.0</td>\n",
              "      <td>-0.210171</td>\n",
              "      <td>-0.136710</td>\n",
              "      <td>-0.168436</td>\n",
              "      <td>-0.049788</td>\n",
              "      <td>-0.102311</td>\n",
              "      <td>0.636072</td>\n",
              "      <td>0.723994</td>\n",
              "      <td>-0.721305</td>\n",
              "      <td>0.463228</td>\n",
              "      <td>-0.277522</td>\n",
              "      <td>-0.076240</td>\n",
              "      <td>-0.129141</td>\n",
              "      <td>-0.136432</td>\n",
              "      <td>-0.088576</td>\n",
              "      <td>-0.110735</td>\n",
              "      <td>-0.148614</td>\n",
              "      <td>-0.915884</td>\n",
              "      <td>-0.715701</td>\n",
              "      <td>-0.716151</td>\n",
              "      <td>-0.907064</td>\n",
              "      <td>-0.521254</td>\n",
              "      <td>-0.482636</td>\n",
              "      <td>-0.501909</td>\n",
              "      <td>-0.179774</td>\n",
              "      <td>-0.481181</td>\n",
              "      <td>-0.128552</td>\n",
              "      <td>-0.043954</td>\n",
              "      <td>0.252782</td>\n",
              "      <td>0.731149</td>\n",
              "      <td>-0.023626</td>\n",
              "      <td>-0.295705</td>\n",
              "      <td>-0.208234</td>\n",
              "      <td>0.756589</td>\n",
              "      <td>-0.120001</td>\n",
              "      <td>-0.188929</td>\n",
              "      <td>-0.114831</td>\n",
              "      <td>0.270835</td>\n",
              "      <td>0.0</td>\n",
              "      <td>0.0</td>\n",
              "      <td>1.0</td>\n",
              "    </tr>\n",
              "    <tr>\n",
              "      <th>1</th>\n",
              "      <td>0.0</td>\n",
              "      <td>0.0</td>\n",
              "      <td>0.0</td>\n",
              "      <td>1.0</td>\n",
              "      <td>0.0</td>\n",
              "      <td>0.0</td>\n",
              "      <td>0.0</td>\n",
              "      <td>1.0</td>\n",
              "      <td>0.0</td>\n",
              "      <td>0.0</td>\n",
              "      <td>1.0</td>\n",
              "      <td>0.0</td>\n",
              "      <td>-0.210171</td>\n",
              "      <td>-0.136710</td>\n",
              "      <td>-0.168436</td>\n",
              "      <td>-0.050294</td>\n",
              "      <td>-0.102311</td>\n",
              "      <td>0.029464</td>\n",
              "      <td>0.723994</td>\n",
              "      <td>-0.721305</td>\n",
              "      <td>-0.147905</td>\n",
              "      <td>-0.277522</td>\n",
              "      <td>-0.076240</td>\n",
              "      <td>-0.129141</td>\n",
              "      <td>-0.136432</td>\n",
              "      <td>-0.088576</td>\n",
              "      <td>-0.110735</td>\n",
              "      <td>-0.148614</td>\n",
              "      <td>-0.915884</td>\n",
              "      <td>-0.715701</td>\n",
              "      <td>-0.716151</td>\n",
              "      <td>-0.907064</td>\n",
              "      <td>-0.521254</td>\n",
              "      <td>-0.482636</td>\n",
              "      <td>-0.501909</td>\n",
              "      <td>-0.389922</td>\n",
              "      <td>-0.481181</td>\n",
              "      <td>-0.128552</td>\n",
              "      <td>-0.043954</td>\n",
              "      <td>2.309697</td>\n",
              "      <td>0.731149</td>\n",
              "      <td>3.452812</td>\n",
              "      <td>3.556217</td>\n",
              "      <td>2.383218</td>\n",
              "      <td>2.309639</td>\n",
              "      <td>-0.120001</td>\n",
              "      <td>-0.188929</td>\n",
              "      <td>3.247672</td>\n",
              "      <td>2.317564</td>\n",
              "      <td>0.0</td>\n",
              "      <td>0.0</td>\n",
              "      <td>1.0</td>\n",
              "    </tr>\n",
              "    <tr>\n",
              "      <th>2</th>\n",
              "      <td>0.0</td>\n",
              "      <td>0.0</td>\n",
              "      <td>1.0</td>\n",
              "      <td>0.0</td>\n",
              "      <td>0.0</td>\n",
              "      <td>0.0</td>\n",
              "      <td>1.0</td>\n",
              "      <td>0.0</td>\n",
              "      <td>0.0</td>\n",
              "      <td>1.0</td>\n",
              "      <td>0.0</td>\n",
              "      <td>0.0</td>\n",
              "      <td>0.210728</td>\n",
              "      <td>-0.061789</td>\n",
              "      <td>-0.080569</td>\n",
              "      <td>-0.044429</td>\n",
              "      <td>-0.096755</td>\n",
              "      <td>-0.577097</td>\n",
              "      <td>0.723994</td>\n",
              "      <td>1.557908</td>\n",
              "      <td>-0.391488</td>\n",
              "      <td>-0.276624</td>\n",
              "      <td>-0.029484</td>\n",
              "      <td>-0.092517</td>\n",
              "      <td>-0.103309</td>\n",
              "      <td>0.205550</td>\n",
              "      <td>0.225772</td>\n",
              "      <td>-0.025013</td>\n",
              "      <td>1.091884</td>\n",
              "      <td>-0.558921</td>\n",
              "      <td>-0.172418</td>\n",
              "      <td>1.102479</td>\n",
              "      <td>1.922979</td>\n",
              "      <td>1.789115</td>\n",
              "      <td>1.842392</td>\n",
              "      <td>-0.213984</td>\n",
              "      <td>-0.160831</td>\n",
              "      <td>-0.128552</td>\n",
              "      <td>-0.043954</td>\n",
              "      <td>-0.588683</td>\n",
              "      <td>-0.318206</td>\n",
              "      <td>-0.644418</td>\n",
              "      <td>-0.419960</td>\n",
              "      <td>-0.553761</td>\n",
              "      <td>-0.705105</td>\n",
              "      <td>-0.120001</td>\n",
              "      <td>-0.188929</td>\n",
              "      <td>-0.595189</td>\n",
              "      <td>-0.752529</td>\n",
              "      <td>0.0</td>\n",
              "      <td>0.0</td>\n",
              "      <td>1.0</td>\n",
              "    </tr>\n",
              "    <tr>\n",
              "      <th>3</th>\n",
              "      <td>0.0</td>\n",
              "      <td>0.0</td>\n",
              "      <td>0.0</td>\n",
              "      <td>1.0</td>\n",
              "      <td>0.0</td>\n",
              "      <td>0.0</td>\n",
              "      <td>0.0</td>\n",
              "      <td>1.0</td>\n",
              "      <td>0.0</td>\n",
              "      <td>1.0</td>\n",
              "      <td>0.0</td>\n",
              "      <td>0.0</td>\n",
              "      <td>-0.210171</td>\n",
              "      <td>-0.136710</td>\n",
              "      <td>-0.168436</td>\n",
              "      <td>-0.050353</td>\n",
              "      <td>-0.102311</td>\n",
              "      <td>0.029464</td>\n",
              "      <td>0.723994</td>\n",
              "      <td>-0.721305</td>\n",
              "      <td>-0.169273</td>\n",
              "      <td>-0.277522</td>\n",
              "      <td>-0.076240</td>\n",
              "      <td>-0.129141</td>\n",
              "      <td>-0.136432</td>\n",
              "      <td>-0.088576</td>\n",
              "      <td>-0.110735</td>\n",
              "      <td>-0.148614</td>\n",
              "      <td>-0.915884</td>\n",
              "      <td>-0.715701</td>\n",
              "      <td>-0.716151</td>\n",
              "      <td>-0.907064</td>\n",
              "      <td>-0.521254</td>\n",
              "      <td>-0.482636</td>\n",
              "      <td>-0.501909</td>\n",
              "      <td>-0.414358</td>\n",
              "      <td>-0.481181</td>\n",
              "      <td>-0.128552</td>\n",
              "      <td>-0.043954</td>\n",
              "      <td>-0.495187</td>\n",
              "      <td>0.731149</td>\n",
              "      <td>-0.520260</td>\n",
              "      <td>-0.544216</td>\n",
              "      <td>-0.553761</td>\n",
              "      <td>-0.522394</td>\n",
              "      <td>-0.120001</td>\n",
              "      <td>-0.188929</td>\n",
              "      <td>-0.715278</td>\n",
              "      <td>-0.566463</td>\n",
              "      <td>0.0</td>\n",
              "      <td>0.0</td>\n",
              "      <td>0.0</td>\n",
              "    </tr>\n",
              "    <tr>\n",
              "      <th>4</th>\n",
              "      <td>0.0</td>\n",
              "      <td>0.0</td>\n",
              "      <td>1.0</td>\n",
              "      <td>0.0</td>\n",
              "      <td>0.0</td>\n",
              "      <td>0.0</td>\n",
              "      <td>1.0</td>\n",
              "      <td>0.0</td>\n",
              "      <td>0.0</td>\n",
              "      <td>0.0</td>\n",
              "      <td>0.0</td>\n",
              "      <td>1.0</td>\n",
              "      <td>-0.176086</td>\n",
              "      <td>-0.046804</td>\n",
              "      <td>-0.115716</td>\n",
              "      <td>0.001608</td>\n",
              "      <td>-0.100158</td>\n",
              "      <td>-0.576624</td>\n",
              "      <td>-1.441993</td>\n",
              "      <td>-0.459015</td>\n",
              "      <td>-0.389907</td>\n",
              "      <td>-0.273544</td>\n",
              "      <td>-0.013898</td>\n",
              "      <td>-0.110829</td>\n",
              "      <td>-0.134084</td>\n",
              "      <td>-0.044207</td>\n",
              "      <td>-0.076609</td>\n",
              "      <td>-0.132573</td>\n",
              "      <td>1.091884</td>\n",
              "      <td>0.022356</td>\n",
              "      <td>0.606382</td>\n",
              "      <td>1.102479</td>\n",
              "      <td>-0.514091</td>\n",
              "      <td>-0.472186</td>\n",
              "      <td>-0.499107</td>\n",
              "      <td>2.449531</td>\n",
              "      <td>-0.276620</td>\n",
              "      <td>-0.128552</td>\n",
              "      <td>-0.043954</td>\n",
              "      <td>-0.588683</td>\n",
              "      <td>-1.367560</td>\n",
              "      <td>-0.520260</td>\n",
              "      <td>-0.544216</td>\n",
              "      <td>-0.553761</td>\n",
              "      <td>-0.339682</td>\n",
              "      <td>-0.120001</td>\n",
              "      <td>-0.188929</td>\n",
              "      <td>-0.595189</td>\n",
              "      <td>-0.566463</td>\n",
              "      <td>0.0</td>\n",
              "      <td>0.0</td>\n",
              "      <td>0.0</td>\n",
              "    </tr>\n",
              "  </tbody>\n",
              "</table>\n",
              "</div>"
            ],
            "text/plain": [
              "   arp  other  tcp  udp  ...  ct_srv_dst  is_sm_ips_ports  is_ftp_login  label\n",
              "0  0.0    1.0  0.0  0.0  ...    0.270835              0.0           0.0    1.0\n",
              "1  0.0    0.0  0.0  1.0  ...    2.317564              0.0           0.0    1.0\n",
              "2  0.0    0.0  1.0  0.0  ...   -0.752529              0.0           0.0    1.0\n",
              "3  0.0    0.0  0.0  1.0  ...   -0.566463              0.0           0.0    0.0\n",
              "4  0.0    0.0  1.0  0.0  ...   -0.566463              0.0           0.0    0.0\n",
              "\n",
              "[5 rows x 52 columns]"
            ]
          },
          "metadata": {
            "tags": []
          },
          "execution_count": 41
        }
      ]
    },
    {
      "cell_type": "code",
      "metadata": {
        "id": "qk-oL8JtiRq8",
        "colab_type": "code",
        "colab": {}
      },
      "source": [
        "nX_train.drop([\"label\"],axis=1,inplace=True)\n",
        "nX_cval.drop([\"label\"],axis=1,inplace=True)\n",
        "nX_test.drop([\"label\"],axis=1,inplace=True)"
      ],
      "execution_count": null,
      "outputs": []
    },
    {
      "cell_type": "markdown",
      "metadata": {
        "id": "MSsadZQbb5mz",
        "colab_type": "text"
      },
      "source": [
        "##Data visualization\n",
        "Principal component analysis and t-SNE are both used to reduce the dimension of the dataset for 2-D visualization"
      ]
    },
    {
      "cell_type": "code",
      "metadata": {
        "id": "bpcmYhkAfoM5",
        "colab_type": "code",
        "colab": {
          "base_uri": "https://localhost:8080/",
          "height": 298
        },
        "outputId": "ee857364-1bd4-43c4-8206-e5b8644925e9"
      },
      "source": [
        "#PCA\n",
        "pca=PCA(n_components=2)\n",
        "mask= ny_train==1\n",
        "nX_trainPCA=pca.fit_transform(nX_train)\n",
        "plt.scatter(nX_trainPCA[mask,0], nX_trainPCA[mask,1],label=\"attack\")\n",
        "plt.scatter(nX_trainPCA[~mask,0], nX_trainPCA[~mask,1],label=\"normal\")\n",
        "plt.title(\"Visualization of training data (175k) in 2D\")\n",
        "plt.legend()\n",
        "#plot using PCA"
      ],
      "execution_count": null,
      "outputs": [
        {
          "output_type": "execute_result",
          "data": {
            "text/plain": [
              "<matplotlib.legend.Legend at 0x7fac7107d198>"
            ]
          },
          "metadata": {
            "tags": []
          },
          "execution_count": 21
        },
        {
          "output_type": "display_data",
          "data": {
            "image/png": "[encoded data removed]",
            "text/plain": [
              "<Figure size 432x288 with 1 Axes>"
            ]
          },
          "metadata": {
            "tags": [],
            "needs_background": "light"
          }
        }
      ]
    },
    {
      "cell_type": "code",
      "metadata": {
        "id": "7cZknyJwdv9B",
        "colab_type": "code",
        "colab": {
          "base_uri": "https://localhost:8080/",
          "height": 200
        },
        "outputId": "3001b582-6e3c-44e2-9da4-56bb5dc9f27e"
      },
      "source": [
        "#DO NOT RUN - takes 30 minutes\n",
        "tsne=TSNE()\n",
        "nX_trainTSNE=tsne.fit_transform(nX_train)\n"
      ],
      "execution_count": null,
      "outputs": [
        {
          "output_type": "error",
          "ename": "NameError",
          "evalue": "ignored",
          "traceback": [
            "\u001b[0;31m---------------------------------------------------------------------------\u001b[0m",
            "\u001b[0;31mNameError\u001b[0m                                 Traceback (most recent call last)",
            "\u001b[0;32m<ipython-input-66-67f2c32098d7>\u001b[0m in \u001b[0;36m<module>\u001b[0;34m()\u001b[0m\n\u001b[1;32m      1\u001b[0m \u001b[0mtsne\u001b[0m\u001b[0;34m=\u001b[0m\u001b[0mTSNE\u001b[0m\u001b[0;34m(\u001b[0m\u001b[0;34m)\u001b[0m\u001b[0;34m\u001b[0m\u001b[0;34m\u001b[0m\u001b[0m\n\u001b[1;32m      2\u001b[0m \u001b[0mnX_trainTSNE\u001b[0m\u001b[0;34m=\u001b[0m\u001b[0mtsne\u001b[0m\u001b[0;34m.\u001b[0m\u001b[0mfit_transform\u001b[0m\u001b[0;34m(\u001b[0m\u001b[0mnX_train\u001b[0m\u001b[0;34m)\u001b[0m\u001b[0;34m\u001b[0m\u001b[0;34m\u001b[0m\u001b[0m\n\u001b[0;32m----> 3\u001b[0;31m \u001b[0msns\u001b[0m\u001b[0;34m.\u001b[0m\u001b[0mscatterplot\u001b[0m\u001b[0;34m(\u001b[0m\u001b[0mnX_trainTSNE\u001b[0m\u001b[0;34m[\u001b[0m\u001b[0;34m:\u001b[0m\u001b[0;34m,\u001b[0m\u001b[0;36m0\u001b[0m\u001b[0;34m]\u001b[0m\u001b[0;34m,\u001b[0m\u001b[0mnX_trainTSNE\u001b[0m\u001b[0;34m[\u001b[0m\u001b[0;34m:\u001b[0m\u001b[0;34m,\u001b[0m\u001b[0;36m1\u001b[0m\u001b[0;34m]\u001b[0m\u001b[0;34m,\u001b[0m\u001b[0mhue\u001b[0m\u001b[0;34m=\u001b[0m\u001b[0mny_train\u001b[0m\u001b[0;34m,\u001b[0m \u001b[0mlegend\u001b[0m\u001b[0;34m=\u001b[0m\u001b[0;34m\"full\"\u001b[0m\u001b[0;34m,\u001b[0m \u001b[0mpalette\u001b[0m\u001b[0;34m=\u001b[0m\u001b[0mpalette\u001b[0m\u001b[0;34m)\u001b[0m\u001b[0;34m\u001b[0m\u001b[0;34m\u001b[0m\u001b[0m\n\u001b[0m",
            "\u001b[0;31mNameError\u001b[0m: name 'palette' is not defined"
          ]
        }
      ]
    },
    {
      "cell_type": "code",
      "metadata": {
        "id": "Xwxcs56IpIpG",
        "colab_type": "code",
        "colab": {
          "base_uri": "https://localhost:8080/",
          "height": 286
        },
        "outputId": "a07a0fa2-6601-4e0d-9922-15dd745e8ea3"
      },
      "source": [
        "#plot using t-SNE\n",
        "sns.scatterplot(nX_trainTSNE[:,0],nX_trainTSNE[:,1],hue=ny_train, legend=\"full\")\n",
        "#1- attack, 0- normal"
      ],
      "execution_count": null,
      "outputs": [
        {
          "output_type": "execute_result",
          "data": {
            "text/plain": [
              "<matplotlib.axes._subplots.AxesSubplot at 0x7f34ee3db400>"
            ]
          },
          "metadata": {
            "tags": []
          },
          "execution_count": 67
        },
        {
          "output_type": "display_data",
          "data": {
            "image/png": "[encoded data removed]",
            "text/plain": [
              "<Figure size 432x288 with 1 Axes>"
            ]
          },
          "metadata": {
            "tags": [],
            "needs_background": "light"
          }
        }
      ]
    },
    {
      "cell_type": "markdown",
      "metadata": {
        "id": "HApWntGUdqTs",
        "colab_type": "text"
      },
      "source": [
        "##Training and Testing\n",
        "We train and test six different classifiers for binary classification"
      ]
    },
    {
      "cell_type": "code",
      "metadata": {
        "id": "BqGa6dSXjotm",
        "colab_type": "code",
        "colab": {
          "base_uri": "https://localhost:8080/",
          "height": 1000
        },
        "outputId": "53595123-bbb7-4a41-ae3d-da123a9188d9"
      },
      "source": [
        "classifiers = {\n",
        "    'K-nearest Neighnbors': KNeighborsClassifier() ,\n",
        "    'Logistic Regression': LogisticRegression(random_state=42) ,\n",
        "    'Gaussian Naive Bayes': GaussianNB() ,\n",
        "    'Decision Tree': DecisionTreeClassifier(random_state=42) ,\n",
        "    'Random Forest': RandomForestClassifier(random_state=42) ,\n",
        "    'Gradient Boost': GradientBoostingClassifier(random_state=42) \n",
        "}\n",
        "for clf_name,clf in classifiers.items():\n",
        "  print(clf_name)\n",
        "  clf.fit(nX_train,ny_train)\n",
        "  print(\"AUC scores\")\n",
        "  print('Train: ', roc_auc_score(ny_train, clf.predict(nX_train)))\n",
        "  print('Cross validation: ', roc_auc_score(ny_cval, clf.predict(nX_cval)))\n",
        "  ny_pred=clf.predict(nX_test)\n",
        "  print('Test:', roc_auc_score(ny_test[\"label\"],ny_pred))\n",
        "  print(\"Confusion_matrix:\")\n",
        "  print(confusion_matrix(ny_test[\"label\"], ny_pred))\n",
        "  print(classification_report(ny_test[\"label\"],ny_pred))"
      ],
      "execution_count": null,
      "outputs": [
        {
          "output_type": "stream",
          "text": [
            "K-nearest Neighnbors\n",
            "AUC scores\n",
            "Train:  0.9468288495953937\n",
            "Cross validation:  0.9228249732169042\n",
            "Test: 0.8308594954700574\n",
            "Confusion_matrix:\n",
            "[[25743 11257]\n",
            " [ 1543 43789]]\n",
            "              precision    recall  f1-score   support\n",
            "\n",
            "           0       0.94      0.70      0.80     37000\n",
            "           1       0.80      0.97      0.87     45332\n",
            "\n",
            "    accuracy                           0.84     82332\n",
            "   macro avg       0.87      0.83      0.84     82332\n",
            "weighted avg       0.86      0.84      0.84     82332\n",
            "\n",
            "Logistic Regression\n"
          ],
          "name": "stdout"
        },
        {
          "output_type": "stream",
          "text": [
            "/usr/local/lib/python3.6/dist-packages/sklearn/linear_model/_logistic.py:940: ConvergenceWarning: lbfgs failed to converge (status=1):\n",
            "STOP: TOTAL NO. of ITERATIONS REACHED LIMIT.\n",
            "\n",
            "Increase the number of iterations (max_iter) or scale the data as shown in:\n",
            "    https://scikit-learn.org/stable/modules/preprocessing.html\n",
            "Please also refer to the documentation for alternative solver options:\n",
            "    https://scikit-learn.org/stable/modules/linear_model.html#logistic-regression\n",
            "  extra_warning_msg=_LOGISTIC_SOLVER_CONVERGENCE_MSG)\n"
          ],
          "name": "stderr"
        },
        {
          "output_type": "stream",
          "text": [
            "AUC scores\n",
            "Train:  0.9054291497581939\n",
            "Cross validation:  0.9084629439410352\n",
            "Test: 0.7966975980215635\n",
            "Confusion_matrix:\n",
            "[[22549 14451]\n",
            " [  727 44605]]\n",
            "              precision    recall  f1-score   support\n",
            "\n",
            "           0       0.97      0.61      0.75     37000\n",
            "           1       0.76      0.98      0.85     45332\n",
            "\n",
            "    accuracy                           0.82     82332\n",
            "   macro avg       0.86      0.80      0.80     82332\n",
            "weighted avg       0.85      0.82      0.81     82332\n",
            "\n",
            "Gaussian Naive Bayes\n",
            "AUC scores\n",
            "Train:  0.8281551509492686\n",
            "Cross validation:  0.8255159075130324\n",
            "Test: 0.781621018265243\n",
            "Confusion_matrix:\n",
            "[[30858  6142]\n",
            " [12274 33058]]\n",
            "              precision    recall  f1-score   support\n",
            "\n",
            "           0       0.72      0.83      0.77     37000\n",
            "           1       0.84      0.73      0.78     45332\n",
            "\n",
            "    accuracy                           0.78     82332\n",
            "   macro avg       0.78      0.78      0.78     82332\n",
            "weighted avg       0.79      0.78      0.78     82332\n",
            "\n",
            "Decision Tree\n",
            "AUC scores\n",
            "Train:  0.9982288543088177\n",
            "Cross validation:  0.9434012175086633\n",
            "Test: 0.8547612735827683\n",
            "Confusion_matrix:\n",
            "[[27888  9112]\n",
            " [ 2004 43328]]\n",
            "              precision    recall  f1-score   support\n",
            "\n",
            "           0       0.93      0.75      0.83     37000\n",
            "           1       0.83      0.96      0.89     45332\n",
            "\n",
            "    accuracy                           0.86     82332\n",
            "   macro avg       0.88      0.85      0.86     82332\n",
            "weighted avg       0.87      0.86      0.86     82332\n",
            "\n",
            "Random Forest\n",
            "AUC scores\n",
            "Train:  0.9978912104371662\n",
            "Cross validation:  0.9509403148435208\n",
            "Test: 0.8610135039742823\n",
            "Confusion_matrix:\n",
            "[[27239  9761]\n",
            " [  642 44690]]\n",
            "              precision    recall  f1-score   support\n",
            "\n",
            "           0       0.98      0.74      0.84     37000\n",
            "           1       0.82      0.99      0.90     45332\n",
            "\n",
            "    accuracy                           0.87     82332\n",
            "   macro avg       0.90      0.86      0.87     82332\n",
            "weighted avg       0.89      0.87      0.87     82332\n",
            "\n",
            "Gradient Boost\n",
            "AUC scores\n",
            "Train:  0.9271607962095093\n",
            "Cross validation:  0.9278187450249277\n",
            "Test: 0.8447216798109324\n",
            "Confusion_matrix:\n",
            "[[26013 10987]\n",
            " [  617 44715]]\n",
            "              precision    recall  f1-score   support\n",
            "\n",
            "           0       0.98      0.70      0.82     37000\n",
            "           1       0.80      0.99      0.89     45332\n",
            "\n",
            "    accuracy                           0.86     82332\n",
            "   macro avg       0.89      0.84      0.85     82332\n",
            "weighted avg       0.88      0.86      0.85     82332\n",
            "\n"
          ],
          "name": "stdout"
        }
      ]
    },
    {
      "cell_type": "markdown",
      "metadata": {
        "id": "1aazI90QeEP7",
        "colab_type": "text"
      },
      "source": [
        "We observed that all the classifiers gave a better AUC (Area under ROC curve) scores on the cross-validation set than on the test set. The cross-validation set was split from train data provided unlike the test set which was provided separately, it led us to believe that the training set did not contain enough records to represent the test set.\n",
        "\n",
        "So, we loaded the entire raw dataset (2.5 million records) before it was sampled for training and test data.\n",
        "\n",
        "##Loading the Full UNSW-NB15 dataset"
      ]
    },
    {
      "cell_type": "code",
      "metadata": {
        "id": "ax0jCdkXFrss",
        "colab_type": "code",
        "colab": {
          "base_uri": "https://localhost:8080/",
          "height": 86
        },
        "outputId": "f67abcab-0b11-4e6d-c09c-c9dff6bcce31"
      },
      "source": [
        "dfs = []\n",
        "for i in range(1,5):\n",
        "    rpath = path+'/UNSW-NB15_{}.csv'\n",
        "    dfs.append(pd.read_csv(rpath.format(i), header = None))\n",
        "all_data = pd.concat(dfs).reset_index(drop=True)"
      ],
      "execution_count": null,
      "outputs": [
        {
          "output_type": "stream",
          "text": [
            "/usr/local/lib/python3.6/dist-packages/IPython/core/interactiveshell.py:2718: DtypeWarning: Columns (1,3,47) have mixed types.Specify dtype option on import or set low_memory=False.\n",
            "  interactivity=interactivity, compiler=compiler, result=result)\n",
            "/usr/local/lib/python3.6/dist-packages/IPython/core/interactiveshell.py:2718: DtypeWarning: Columns (3,39,47) have mixed types.Specify dtype option on import or set low_memory=False.\n",
            "  interactivity=interactivity, compiler=compiler, result=result)\n"
          ],
          "name": "stderr"
        }
      ]
    },
    {
      "cell_type": "code",
      "metadata": {
        "id": "AuGT89l_GApk",
        "colab_type": "code",
        "colab": {}
      },
      "source": [
        "data_info = pd.read_csv(path+\"/NUSW-NB15_features.csv\", encoding = \"ISO-8859-1\", header=None).values\n",
        "features = data_info[1:-2,:]\n",
        "feature_names = features[:, 1] "
      ],
      "execution_count": null,
      "outputs": []
    },
    {
      "cell_type": "code",
      "metadata": {
        "id": "DdichUK5HQNW",
        "colab_type": "code",
        "colab": {}
      },
      "source": [
        "feature_names=list(feature_names)\n",
        "feature_names.append(\"attack_cat\")\n",
        "feature_names.append(\"label\")\n",
        "for i in range(0,len(feature_names)):\n",
        "  feature_names[i]=feature_names[i].lower()\n",
        "all_data.columns=feature_names"
      ],
      "execution_count": null,
      "outputs": []
    },
    {
      "cell_type": "code",
      "metadata": {
        "id": "DYG3DYlGGQsy",
        "colab_type": "code",
        "colab": {
          "base_uri": "https://localhost:8080/",
          "height": 240
        },
        "outputId": "0d8f6861-d25d-4d28-b28b-d727bc36f9d0"
      },
      "source": [
        "all_data.head()"
      ],
      "execution_count": null,
      "outputs": [
        {
          "output_type": "execute_result",
          "data": {
            "text/html": [
              "<div>\n",
              "<style scoped>\n",
              "    .dataframe tbody tr th:only-of-type {\n",
              "        vertical-align: middle;\n",
              "    }\n",
              "\n",
              "    .dataframe tbody tr th {\n",
              "        vertical-align: top;\n",
              "    }\n",
              "\n",
              "    .dataframe thead th {\n",
              "        text-align: right;\n",
              "    }\n",
              "</style>\n",
              "<table border=\"1\" class=\"dataframe\">\n",
              "  <thead>\n",
              "    <tr style=\"text-align: right;\">\n",
              "      <th></th>\n",
              "      <th>srcip</th>\n",
              "      <th>sport</th>\n",
              "      <th>dstip</th>\n",
              "      <th>dsport</th>\n",
              "      <th>proto</th>\n",
              "      <th>state</th>\n",
              "      <th>dur</th>\n",
              "      <th>sbytes</th>\n",
              "      <th>dbytes</th>\n",
              "      <th>sttl</th>\n",
              "      <th>dttl</th>\n",
              "      <th>sloss</th>\n",
              "      <th>dloss</th>\n",
              "      <th>service</th>\n",
              "      <th>sload</th>\n",
              "      <th>dload</th>\n",
              "      <th>spkts</th>\n",
              "      <th>dpkts</th>\n",
              "      <th>swin</th>\n",
              "      <th>dwin</th>\n",
              "      <th>stcpb</th>\n",
              "      <th>dtcpb</th>\n",
              "      <th>smeansz</th>\n",
              "      <th>dmeansz</th>\n",
              "      <th>trans_depth</th>\n",
              "      <th>res_bdy_len</th>\n",
              "      <th>sjit</th>\n",
              "      <th>djit</th>\n",
              "      <th>stime</th>\n",
              "      <th>ltime</th>\n",
              "      <th>sintpkt</th>\n",
              "      <th>dintpkt</th>\n",
              "      <th>tcprtt</th>\n",
              "      <th>synack</th>\n",
              "      <th>ackdat</th>\n",
              "      <th>is_sm_ips_ports</th>\n",
              "      <th>ct_state_ttl</th>\n",
              "      <th>ct_flw_http_mthd</th>\n",
              "      <th>is_ftp_login</th>\n",
              "      <th>ct_ftp_cmd</th>\n",
              "      <th>ct_srv_src</th>\n",
              "      <th>ct_srv_dst</th>\n",
              "      <th>ct_dst_ltm</th>\n",
              "      <th>ct_src_ ltm</th>\n",
              "      <th>ct_src_dport_ltm</th>\n",
              "      <th>ct_dst_sport_ltm</th>\n",
              "      <th>ct_dst_src_ltm</th>\n",
              "      <th>attack_cat</th>\n",
              "      <th>label</th>\n",
              "    </tr>\n",
              "  </thead>\n",
              "  <tbody>\n",
              "    <tr>\n",
              "      <th>0</th>\n",
              "      <td>59.166.0.0</td>\n",
              "      <td>1390</td>\n",
              "      <td>149.171.126.6</td>\n",
              "      <td>53</td>\n",
              "      <td>udp</td>\n",
              "      <td>CON</td>\n",
              "      <td>0.001055</td>\n",
              "      <td>132</td>\n",
              "      <td>164</td>\n",
              "      <td>31</td>\n",
              "      <td>29</td>\n",
              "      <td>0</td>\n",
              "      <td>0</td>\n",
              "      <td>dns</td>\n",
              "      <td>500473.93750</td>\n",
              "      <td>621800.93750</td>\n",
              "      <td>2</td>\n",
              "      <td>2</td>\n",
              "      <td>0</td>\n",
              "      <td>0</td>\n",
              "      <td>0</td>\n",
              "      <td>0</td>\n",
              "      <td>66</td>\n",
              "      <td>82</td>\n",
              "      <td>0</td>\n",
              "      <td>0</td>\n",
              "      <td>0.00000</td>\n",
              "      <td>0.000000</td>\n",
              "      <td>1421927414</td>\n",
              "      <td>1421927414</td>\n",
              "      <td>0.017</td>\n",
              "      <td>0.013000</td>\n",
              "      <td>0.0</td>\n",
              "      <td>0.0</td>\n",
              "      <td>0.0</td>\n",
              "      <td>0</td>\n",
              "      <td>0</td>\n",
              "      <td>0.0</td>\n",
              "      <td>0.0</td>\n",
              "      <td>0</td>\n",
              "      <td>3</td>\n",
              "      <td>7</td>\n",
              "      <td>1</td>\n",
              "      <td>3</td>\n",
              "      <td>1</td>\n",
              "      <td>1</td>\n",
              "      <td>1</td>\n",
              "      <td>NaN</td>\n",
              "      <td>0</td>\n",
              "    </tr>\n",
              "    <tr>\n",
              "      <th>1</th>\n",
              "      <td>59.166.0.0</td>\n",
              "      <td>33661</td>\n",
              "      <td>149.171.126.9</td>\n",
              "      <td>1024</td>\n",
              "      <td>udp</td>\n",
              "      <td>CON</td>\n",
              "      <td>0.036133</td>\n",
              "      <td>528</td>\n",
              "      <td>304</td>\n",
              "      <td>31</td>\n",
              "      <td>29</td>\n",
              "      <td>0</td>\n",
              "      <td>0</td>\n",
              "      <td>-</td>\n",
              "      <td>87676.08594</td>\n",
              "      <td>50480.17188</td>\n",
              "      <td>4</td>\n",
              "      <td>4</td>\n",
              "      <td>0</td>\n",
              "      <td>0</td>\n",
              "      <td>0</td>\n",
              "      <td>0</td>\n",
              "      <td>132</td>\n",
              "      <td>76</td>\n",
              "      <td>0</td>\n",
              "      <td>0</td>\n",
              "      <td>9.89101</td>\n",
              "      <td>10.682733</td>\n",
              "      <td>1421927414</td>\n",
              "      <td>1421927414</td>\n",
              "      <td>7.005</td>\n",
              "      <td>7.564333</td>\n",
              "      <td>0.0</td>\n",
              "      <td>0.0</td>\n",
              "      <td>0.0</td>\n",
              "      <td>0</td>\n",
              "      <td>0</td>\n",
              "      <td>0.0</td>\n",
              "      <td>0.0</td>\n",
              "      <td>0</td>\n",
              "      <td>2</td>\n",
              "      <td>4</td>\n",
              "      <td>2</td>\n",
              "      <td>3</td>\n",
              "      <td>1</td>\n",
              "      <td>1</td>\n",
              "      <td>2</td>\n",
              "      <td>NaN</td>\n",
              "      <td>0</td>\n",
              "    </tr>\n",
              "    <tr>\n",
              "      <th>2</th>\n",
              "      <td>59.166.0.6</td>\n",
              "      <td>1464</td>\n",
              "      <td>149.171.126.7</td>\n",
              "      <td>53</td>\n",
              "      <td>udp</td>\n",
              "      <td>CON</td>\n",
              "      <td>0.001119</td>\n",
              "      <td>146</td>\n",
              "      <td>178</td>\n",
              "      <td>31</td>\n",
              "      <td>29</td>\n",
              "      <td>0</td>\n",
              "      <td>0</td>\n",
              "      <td>dns</td>\n",
              "      <td>521894.53130</td>\n",
              "      <td>636282.37500</td>\n",
              "      <td>2</td>\n",
              "      <td>2</td>\n",
              "      <td>0</td>\n",
              "      <td>0</td>\n",
              "      <td>0</td>\n",
              "      <td>0</td>\n",
              "      <td>73</td>\n",
              "      <td>89</td>\n",
              "      <td>0</td>\n",
              "      <td>0</td>\n",
              "      <td>0.00000</td>\n",
              "      <td>0.000000</td>\n",
              "      <td>1421927414</td>\n",
              "      <td>1421927414</td>\n",
              "      <td>0.017</td>\n",
              "      <td>0.013000</td>\n",
              "      <td>0.0</td>\n",
              "      <td>0.0</td>\n",
              "      <td>0.0</td>\n",
              "      <td>0</td>\n",
              "      <td>0</td>\n",
              "      <td>0.0</td>\n",
              "      <td>0.0</td>\n",
              "      <td>0</td>\n",
              "      <td>12</td>\n",
              "      <td>8</td>\n",
              "      <td>1</td>\n",
              "      <td>2</td>\n",
              "      <td>2</td>\n",
              "      <td>1</td>\n",
              "      <td>1</td>\n",
              "      <td>NaN</td>\n",
              "      <td>0</td>\n",
              "    </tr>\n",
              "    <tr>\n",
              "      <th>3</th>\n",
              "      <td>59.166.0.5</td>\n",
              "      <td>3593</td>\n",
              "      <td>149.171.126.5</td>\n",
              "      <td>53</td>\n",
              "      <td>udp</td>\n",
              "      <td>CON</td>\n",
              "      <td>0.001209</td>\n",
              "      <td>132</td>\n",
              "      <td>164</td>\n",
              "      <td>31</td>\n",
              "      <td>29</td>\n",
              "      <td>0</td>\n",
              "      <td>0</td>\n",
              "      <td>dns</td>\n",
              "      <td>436724.56250</td>\n",
              "      <td>542597.18750</td>\n",
              "      <td>2</td>\n",
              "      <td>2</td>\n",
              "      <td>0</td>\n",
              "      <td>0</td>\n",
              "      <td>0</td>\n",
              "      <td>0</td>\n",
              "      <td>66</td>\n",
              "      <td>82</td>\n",
              "      <td>0</td>\n",
              "      <td>0</td>\n",
              "      <td>0.00000</td>\n",
              "      <td>0.000000</td>\n",
              "      <td>1421927414</td>\n",
              "      <td>1421927414</td>\n",
              "      <td>0.043</td>\n",
              "      <td>0.014000</td>\n",
              "      <td>0.0</td>\n",
              "      <td>0.0</td>\n",
              "      <td>0.0</td>\n",
              "      <td>0</td>\n",
              "      <td>0</td>\n",
              "      <td>0.0</td>\n",
              "      <td>0.0</td>\n",
              "      <td>0</td>\n",
              "      <td>6</td>\n",
              "      <td>9</td>\n",
              "      <td>1</td>\n",
              "      <td>1</td>\n",
              "      <td>1</td>\n",
              "      <td>1</td>\n",
              "      <td>1</td>\n",
              "      <td>NaN</td>\n",
              "      <td>0</td>\n",
              "    </tr>\n",
              "    <tr>\n",
              "      <th>4</th>\n",
              "      <td>59.166.0.3</td>\n",
              "      <td>49664</td>\n",
              "      <td>149.171.126.0</td>\n",
              "      <td>53</td>\n",
              "      <td>udp</td>\n",
              "      <td>CON</td>\n",
              "      <td>0.001169</td>\n",
              "      <td>146</td>\n",
              "      <td>178</td>\n",
              "      <td>31</td>\n",
              "      <td>29</td>\n",
              "      <td>0</td>\n",
              "      <td>0</td>\n",
              "      <td>dns</td>\n",
              "      <td>499572.25000</td>\n",
              "      <td>609067.56250</td>\n",
              "      <td>2</td>\n",
              "      <td>2</td>\n",
              "      <td>0</td>\n",
              "      <td>0</td>\n",
              "      <td>0</td>\n",
              "      <td>0</td>\n",
              "      <td>73</td>\n",
              "      <td>89</td>\n",
              "      <td>0</td>\n",
              "      <td>0</td>\n",
              "      <td>0.00000</td>\n",
              "      <td>0.000000</td>\n",
              "      <td>1421927414</td>\n",
              "      <td>1421927414</td>\n",
              "      <td>0.005</td>\n",
              "      <td>0.003000</td>\n",
              "      <td>0.0</td>\n",
              "      <td>0.0</td>\n",
              "      <td>0.0</td>\n",
              "      <td>0</td>\n",
              "      <td>0</td>\n",
              "      <td>0.0</td>\n",
              "      <td>0.0</td>\n",
              "      <td>0</td>\n",
              "      <td>7</td>\n",
              "      <td>9</td>\n",
              "      <td>1</td>\n",
              "      <td>1</td>\n",
              "      <td>1</td>\n",
              "      <td>1</td>\n",
              "      <td>1</td>\n",
              "      <td>NaN</td>\n",
              "      <td>0</td>\n",
              "    </tr>\n",
              "  </tbody>\n",
              "</table>\n",
              "</div>"
            ],
            "text/plain": [
              "        srcip  sport          dstip  ... ct_dst_src_ltm attack_cat label\n",
              "0  59.166.0.0   1390  149.171.126.6  ...              1        NaN     0\n",
              "1  59.166.0.0  33661  149.171.126.9  ...              2        NaN     0\n",
              "2  59.166.0.6   1464  149.171.126.7  ...              1        NaN     0\n",
              "3  59.166.0.5   3593  149.171.126.5  ...              1        NaN     0\n",
              "4  59.166.0.3  49664  149.171.126.0  ...              1        NaN     0\n",
              "\n",
              "[5 rows x 49 columns]"
            ]
          },
          "metadata": {
            "tags": []
          },
          "execution_count": 7
        }
      ]
    },
    {
      "cell_type": "code",
      "metadata": {
        "id": "5BWkaYkVh0iQ",
        "colab_type": "code",
        "colab": {
          "base_uri": "https://localhost:8080/",
          "height": 34
        },
        "outputId": "b1863c08-8ef2-4356-c4fe-f838980eb163"
      },
      "source": [
        "all_data.shape"
      ],
      "execution_count": null,
      "outputs": [
        {
          "output_type": "execute_result",
          "data": {
            "text/plain": [
              "(2540047, 49)"
            ]
          },
          "metadata": {
            "tags": []
          },
          "execution_count": 8
        }
      ]
    },
    {
      "cell_type": "code",
      "metadata": {
        "id": "Jdzgn3p9IuGf",
        "colab_type": "code",
        "colab": {
          "base_uri": "https://localhost:8080/",
          "height": 980
        },
        "outputId": "53c7b4bf-9112-400f-c78f-3ab5fa960fa6"
      },
      "source": [
        "all_data.info()"
      ],
      "execution_count": null,
      "outputs": [
        {
          "output_type": "stream",
          "text": [
            "<class 'pandas.core.frame.DataFrame'>\n",
            "RangeIndex: 2540047 entries, 0 to 2540046\n",
            "Data columns (total 49 columns):\n",
            " #   Column            Dtype  \n",
            "---  ------            -----  \n",
            " 0   srcip             object \n",
            " 1   sport             object \n",
            " 2   dstip             object \n",
            " 3   dsport            object \n",
            " 4   proto             object \n",
            " 5   state             object \n",
            " 6   dur               float64\n",
            " 7   sbytes            int64  \n",
            " 8   dbytes            int64  \n",
            " 9   sttl              int64  \n",
            " 10  dttl              int64  \n",
            " 11  sloss             int64  \n",
            " 12  dloss             int64  \n",
            " 13  service           object \n",
            " 14  sload             float64\n",
            " 15  dload             float64\n",
            " 16  spkts             int64  \n",
            " 17  dpkts             int64  \n",
            " 18  swin              int64  \n",
            " 19  dwin              int64  \n",
            " 20  stcpb             int64  \n",
            " 21  dtcpb             int64  \n",
            " 22  smeansz           int64  \n",
            " 23  dmeansz           int64  \n",
            " 24  trans_depth       int64  \n",
            " 25  res_bdy_len       int64  \n",
            " 26  sjit              float64\n",
            " 27  djit              float64\n",
            " 28  stime             int64  \n",
            " 29  ltime             int64  \n",
            " 30  sintpkt           float64\n",
            " 31  dintpkt           float64\n",
            " 32  tcprtt            float64\n",
            " 33  synack            float64\n",
            " 34  ackdat            float64\n",
            " 35  is_sm_ips_ports   int64  \n",
            " 36  ct_state_ttl      int64  \n",
            " 37  ct_flw_http_mthd  float64\n",
            " 38  is_ftp_login      float64\n",
            " 39  ct_ftp_cmd        object \n",
            " 40  ct_srv_src        int64  \n",
            " 41  ct_srv_dst        int64  \n",
            " 42  ct_dst_ltm        int64  \n",
            " 43  ct_src_ ltm       int64  \n",
            " 44  ct_src_dport_ltm  int64  \n",
            " 45  ct_dst_sport_ltm  int64  \n",
            " 46  ct_dst_src_ltm    int64  \n",
            " 47  attack_cat        object \n",
            " 48  label             int64  \n",
            "dtypes: float64(12), int64(28), object(9)\n",
            "memory usage: 949.6+ MB\n"
          ],
          "name": "stdout"
        }
      ]
    },
    {
      "cell_type": "markdown",
      "metadata": {
        "id": "cN_1wRF6h3-r",
        "colab_type": "text"
      },
      "source": [
        "Unlike the training and test set provided by UNSW, the full dataset has 6 extra features (destination and source port and IP address along with their timestamps) that we will drop.\n",
        "\n",
        "##Data pre processing steps on the full dataset"
      ]
    },
    {
      "cell_type": "code",
      "metadata": {
        "id": "lm4Q0UmeHUCg",
        "colab_type": "code",
        "colab": {}
      },
      "source": [
        "#filling blanks and NaNs in the dataset\n",
        "all_data['attack_cat'] = all_data.attack_cat.fillna(value='normal').apply(lambda x: x.strip().lower())\n",
        "all_data['ct_ftp_cmd'] = all_data.ct_ftp_cmd.replace(to_replace=' ', value=0).astype(int)\n",
        "all_data['ct_flw_http_mthd'] = all_data.ct_flw_http_mthd.fillna(value=0)\n",
        "all_data['is_ftp_login'] = (all_data.is_ftp_login.fillna(value=0) >0).astype(int)"
      ],
      "execution_count": null,
      "outputs": []
    },
    {
      "cell_type": "code",
      "metadata": {
        "id": "_vBEvz0KI_5l",
        "colab_type": "code",
        "colab": {
          "base_uri": "https://localhost:8080/",
          "height": 34
        },
        "outputId": "9a4d03e9-f70e-49d4-e036-b435ae2659ca"
      },
      "source": [
        "all_data.isnull().sum().sum()"
      ],
      "execution_count": null,
      "outputs": [
        {
          "output_type": "execute_result",
          "data": {
            "text/plain": [
              "0"
            ]
          },
          "metadata": {
            "tags": []
          },
          "execution_count": 11
        }
      ]
    },
    {
      "cell_type": "code",
      "metadata": {
        "id": "7XDLfUnhknMz",
        "colab_type": "code",
        "colab": {}
      },
      "source": [
        "#reducing the column values of nominal features like before\n",
        "transformations = {\n",
        "    'proto':['tcp', 'udp', 'arp', 'unas'],\n",
        "    'state':['fin', 'con', 'int'],\n",
        "    'service':['-', 'dns']\n",
        "}\n",
        "for col, keepers in transformations.items():\n",
        "    all_data[col] = all_data[col].apply(reduce_column, args=(keepers,))"
      ],
      "execution_count": null,
      "outputs": []
    },
    {
      "cell_type": "code",
      "metadata": {
        "id": "_mJR9PxPj4o6",
        "colab_type": "code",
        "colab": {
          "base_uri": "https://localhost:8080/",
          "height": 51
        },
        "outputId": "34ec7779-9c39-423a-efb3-4643f889a60d"
      },
      "source": [
        "mask = all_data.label == 1\n",
        "print(\"No. of attacks:\", all_data[mask].label.size)\n",
        "print(\"No. of normal: \", all_data[~mask].label.size)"
      ],
      "execution_count": null,
      "outputs": [
        {
          "output_type": "stream",
          "text": [
            "No. of attacks: 321283\n",
            "No. of normal:  2218764\n"
          ],
          "name": "stdout"
        }
      ]
    },
    {
      "cell_type": "code",
      "metadata": {
        "id": "XUyFYC0dI0wy",
        "colab_type": "code",
        "colab": {
          "base_uri": "https://localhost:8080/",
          "height": 34
        },
        "outputId": "25c7a605-85dd-4637-c121-acf8152ef975"
      },
      "source": [
        "#percentage of attacks\n",
        "np.sum(all_data.label == 1)/all_data.shape[0]"
      ],
      "execution_count": null,
      "outputs": [
        {
          "output_type": "execute_result",
          "data": {
            "text/plain": [
              "0.12648702957071267"
            ]
          },
          "metadata": {
            "tags": []
          },
          "execution_count": 13
        }
      ]
    },
    {
      "cell_type": "code",
      "metadata": {
        "id": "xTMZ4EODJEg3",
        "colab_type": "code",
        "colab": {}
      },
      "source": [
        "#One hot encoding and standard scaling after dropping the extra 6 features\n",
        "droppable_cols = ['srcip', 'sport', 'dstip', 'dsport', 'ltime', 'stime', 'attack_cat']\n",
        "binary_cols = ['is_sm_ips_ports', 'is_ftp_login']\n",
        "target_cols = ['label']\n",
        "ohe_step = ('ohe', OneHotEncoder(sparse=False))\n",
        "ssc_step = ('std_sclr', StandardScaler())\n",
        "ohe_pipe = Pipeline([ohe_step])\n",
        "ssc_pipe = Pipeline([ssc_step])\n",
        "ohe_cols = ['proto', 'state', 'service']\n",
        "non_ssc_cols = ohe_cols+droppable_cols+binary_cols+target_cols\n",
        "ssc_cols = [col for col in all_data.columns if col not in non_ssc_cols]\n",
        "transformer = [\n",
        "    ('one_hot_encoding', ohe_pipe, ohe_cols),\n",
        "    ('standard_scaling', ssc_pipe, ssc_cols)\n",
        "]"
      ],
      "execution_count": null,
      "outputs": []
    },
    {
      "cell_type": "code",
      "metadata": {
        "id": "NqplSBY2KNUw",
        "colab_type": "code",
        "colab": {}
      },
      "source": [
        "ct = ColumnTransformer(transformers=transformer, remainder='passthrough')\n",
        "cat_cols = np.concatenate((np.sort(all_data.proto.unique()),\n",
        "                           np.sort(all_data.state.unique()),\n",
        "                           np.sort(all_data.service.unique())))\n",
        "new_cols =  np.concatenate((cat_cols, ssc_cols, binary_cols, target_cols))\n",
        "new_data = pd.DataFrame(ct.fit_transform(all_data.drop(columns=droppable_cols)))\n",
        "new_data.columns = new_cols"
      ],
      "execution_count": null,
      "outputs": []
    },
    {
      "cell_type": "code",
      "metadata": {
        "id": "0lWN3gI-KXNU",
        "colab_type": "code",
        "colab": {
          "base_uri": "https://localhost:8080/",
          "height": 286
        },
        "outputId": "aeed4b87-d574-4d33-82e9-d23852b57a1a"
      },
      "source": [
        "new_data.head()"
      ],
      "execution_count": null,
      "outputs": [
        {
          "output_type": "execute_result",
          "data": {
            "text/html": [
              "<div>\n",
              "<style scoped>\n",
              "    .dataframe tbody tr th:only-of-type {\n",
              "        vertical-align: middle;\n",
              "    }\n",
              "\n",
              "    .dataframe tbody tr th {\n",
              "        vertical-align: top;\n",
              "    }\n",
              "\n",
              "    .dataframe thead th {\n",
              "        text-align: right;\n",
              "    }\n",
              "</style>\n",
              "<table border=\"1\" class=\"dataframe\">\n",
              "  <thead>\n",
              "    <tr style=\"text-align: right;\">\n",
              "      <th></th>\n",
              "      <th>3pc</th>\n",
              "      <th>a/n</th>\n",
              "      <th>aes-sp3-d</th>\n",
              "      <th>any</th>\n",
              "      <th>argus</th>\n",
              "      <th>aris</th>\n",
              "      <th>arp</th>\n",
              "      <th>ax.25</th>\n",
              "      <th>bbn-rcc</th>\n",
              "      <th>bna</th>\n",
              "      <th>br-sat-mon</th>\n",
              "      <th>cbt</th>\n",
              "      <th>cftp</th>\n",
              "      <th>chaos</th>\n",
              "      <th>compaq-peer</th>\n",
              "      <th>cphb</th>\n",
              "      <th>cpnx</th>\n",
              "      <th>crtp</th>\n",
              "      <th>crudp</th>\n",
              "      <th>dcn</th>\n",
              "      <th>ddp</th>\n",
              "      <th>ddx</th>\n",
              "      <th>dgp</th>\n",
              "      <th>egp</th>\n",
              "      <th>eigrp</th>\n",
              "      <th>emcon</th>\n",
              "      <th>encap</th>\n",
              "      <th>esp</th>\n",
              "      <th>etherip</th>\n",
              "      <th>fc</th>\n",
              "      <th>fire</th>\n",
              "      <th>ggp</th>\n",
              "      <th>gmtp</th>\n",
              "      <th>gre</th>\n",
              "      <th>hmp</th>\n",
              "      <th>i-nlsp</th>\n",
              "      <th>iatp</th>\n",
              "      <th>ib</th>\n",
              "      <th>icmp</th>\n",
              "      <th>idpr</th>\n",
              "      <th>...</th>\n",
              "      <th>ssl</th>\n",
              "      <th>dur</th>\n",
              "      <th>sbytes</th>\n",
              "      <th>dbytes</th>\n",
              "      <th>sttl</th>\n",
              "      <th>dttl</th>\n",
              "      <th>sloss</th>\n",
              "      <th>dloss</th>\n",
              "      <th>sload</th>\n",
              "      <th>dload</th>\n",
              "      <th>spkts</th>\n",
              "      <th>dpkts</th>\n",
              "      <th>swin</th>\n",
              "      <th>dwin</th>\n",
              "      <th>stcpb</th>\n",
              "      <th>dtcpb</th>\n",
              "      <th>smeansz</th>\n",
              "      <th>dmeansz</th>\n",
              "      <th>trans_depth</th>\n",
              "      <th>res_bdy_len</th>\n",
              "      <th>sjit</th>\n",
              "      <th>djit</th>\n",
              "      <th>sintpkt</th>\n",
              "      <th>dintpkt</th>\n",
              "      <th>tcprtt</th>\n",
              "      <th>synack</th>\n",
              "      <th>ackdat</th>\n",
              "      <th>ct_state_ttl</th>\n",
              "      <th>ct_flw_http_mthd</th>\n",
              "      <th>ct_ftp_cmd</th>\n",
              "      <th>ct_srv_src</th>\n",
              "      <th>ct_srv_dst</th>\n",
              "      <th>ct_dst_ltm</th>\n",
              "      <th>ct_src_ ltm</th>\n",
              "      <th>ct_src_dport_ltm</th>\n",
              "      <th>ct_dst_sport_ltm</th>\n",
              "      <th>ct_dst_src_ltm</th>\n",
              "      <th>is_sm_ips_ports</th>\n",
              "      <th>is_ftp_login</th>\n",
              "      <th>label</th>\n",
              "    </tr>\n",
              "  </thead>\n",
              "  <tbody>\n",
              "    <tr>\n",
              "      <th>0</th>\n",
              "      <td>0.0</td>\n",
              "      <td>0.0</td>\n",
              "      <td>0.0</td>\n",
              "      <td>0.0</td>\n",
              "      <td>0.0</td>\n",
              "      <td>0.0</td>\n",
              "      <td>0.0</td>\n",
              "      <td>0.0</td>\n",
              "      <td>0.0</td>\n",
              "      <td>0.0</td>\n",
              "      <td>0.0</td>\n",
              "      <td>0.0</td>\n",
              "      <td>0.0</td>\n",
              "      <td>0.0</td>\n",
              "      <td>0.0</td>\n",
              "      <td>0.0</td>\n",
              "      <td>0.0</td>\n",
              "      <td>0.0</td>\n",
              "      <td>0.0</td>\n",
              "      <td>0.0</td>\n",
              "      <td>0.0</td>\n",
              "      <td>0.0</td>\n",
              "      <td>0.0</td>\n",
              "      <td>0.0</td>\n",
              "      <td>0.0</td>\n",
              "      <td>0.0</td>\n",
              "      <td>0.0</td>\n",
              "      <td>0.0</td>\n",
              "      <td>0.0</td>\n",
              "      <td>0.0</td>\n",
              "      <td>0.0</td>\n",
              "      <td>0.0</td>\n",
              "      <td>0.0</td>\n",
              "      <td>0.0</td>\n",
              "      <td>0.0</td>\n",
              "      <td>0.0</td>\n",
              "      <td>0.0</td>\n",
              "      <td>0.0</td>\n",
              "      <td>0.0</td>\n",
              "      <td>0.0</td>\n",
              "      <td>...</td>\n",
              "      <td>0.0</td>\n",
              "      <td>-0.047234</td>\n",
              "      <td>-0.074595</td>\n",
              "      <td>-0.225105</td>\n",
              "      <td>-0.425902</td>\n",
              "      <td>-0.041232</td>\n",
              "      <td>-0.229334</td>\n",
              "      <td>-0.288533</td>\n",
              "      <td>-0.307375</td>\n",
              "      <td>-0.432928</td>\n",
              "      <td>-0.410163</td>\n",
              "      <td>-0.335193</td>\n",
              "      <td>-1.196094</td>\n",
              "      <td>-1.192778</td>\n",
              "      <td>-0.887256</td>\n",
              "      <td>-0.887232</td>\n",
              "      <td>-0.383459</td>\n",
              "      <td>-0.580043</td>\n",
              "      <td>-0.237863</td>\n",
              "      <td>-0.089307</td>\n",
              "      <td>-0.093968</td>\n",
              "      <td>-0.212320</td>\n",
              "      <td>-0.069555</td>\n",
              "      <td>-0.054990</td>\n",
              "      <td>-0.133896</td>\n",
              "      <td>-0.126759</td>\n",
              "      <td>-0.120805</td>\n",
              "      <td>-0.38231</td>\n",
              "      <td>-0.197833</td>\n",
              "      <td>-0.111508</td>\n",
              "      <td>-0.572772</td>\n",
              "      <td>-0.183780</td>\n",
              "      <td>-0.666391</td>\n",
              "      <td>-0.475437</td>\n",
              "      <td>-0.429620</td>\n",
              "      <td>-0.419913</td>\n",
              "      <td>-0.519252</td>\n",
              "      <td>0.0</td>\n",
              "      <td>0.0</td>\n",
              "      <td>0.0</td>\n",
              "    </tr>\n",
              "    <tr>\n",
              "      <th>1</th>\n",
              "      <td>0.0</td>\n",
              "      <td>0.0</td>\n",
              "      <td>0.0</td>\n",
              "      <td>0.0</td>\n",
              "      <td>0.0</td>\n",
              "      <td>0.0</td>\n",
              "      <td>0.0</td>\n",
              "      <td>0.0</td>\n",
              "      <td>0.0</td>\n",
              "      <td>0.0</td>\n",
              "      <td>0.0</td>\n",
              "      <td>0.0</td>\n",
              "      <td>0.0</td>\n",
              "      <td>0.0</td>\n",
              "      <td>0.0</td>\n",
              "      <td>0.0</td>\n",
              "      <td>0.0</td>\n",
              "      <td>0.0</td>\n",
              "      <td>0.0</td>\n",
              "      <td>0.0</td>\n",
              "      <td>0.0</td>\n",
              "      <td>0.0</td>\n",
              "      <td>0.0</td>\n",
              "      <td>0.0</td>\n",
              "      <td>0.0</td>\n",
              "      <td>0.0</td>\n",
              "      <td>0.0</td>\n",
              "      <td>0.0</td>\n",
              "      <td>0.0</td>\n",
              "      <td>0.0</td>\n",
              "      <td>0.0</td>\n",
              "      <td>0.0</td>\n",
              "      <td>0.0</td>\n",
              "      <td>0.0</td>\n",
              "      <td>0.0</td>\n",
              "      <td>0.0</td>\n",
              "      <td>0.0</td>\n",
              "      <td>0.0</td>\n",
              "      <td>0.0</td>\n",
              "      <td>0.0</td>\n",
              "      <td>...</td>\n",
              "      <td>0.0</td>\n",
              "      <td>-0.044715</td>\n",
              "      <td>-0.067574</td>\n",
              "      <td>-0.224236</td>\n",
              "      <td>-0.425902</td>\n",
              "      <td>-0.041232</td>\n",
              "      <td>-0.229334</td>\n",
              "      <td>-0.288533</td>\n",
              "      <td>-0.310855</td>\n",
              "      <td>-0.568156</td>\n",
              "      <td>-0.383945</td>\n",
              "      <td>-0.318733</td>\n",
              "      <td>-1.196094</td>\n",
              "      <td>-1.192778</td>\n",
              "      <td>-0.887256</td>\n",
              "      <td>-0.887232</td>\n",
              "      <td>0.050991</td>\n",
              "      <td>-0.597920</td>\n",
              "      <td>-0.237863</td>\n",
              "      <td>-0.089307</td>\n",
              "      <td>-0.093383</td>\n",
              "      <td>-0.209214</td>\n",
              "      <td>-0.067041</td>\n",
              "      <td>-0.049722</td>\n",
              "      <td>-0.133896</td>\n",
              "      <td>-0.126759</td>\n",
              "      <td>-0.120805</td>\n",
              "      <td>-0.38231</td>\n",
              "      <td>-0.197833</td>\n",
              "      <td>-0.111508</td>\n",
              "      <td>-0.665051</td>\n",
              "      <td>-0.460981</td>\n",
              "      <td>-0.543872</td>\n",
              "      <td>-0.475437</td>\n",
              "      <td>-0.429620</td>\n",
              "      <td>-0.419913</td>\n",
              "      <td>-0.430429</td>\n",
              "      <td>0.0</td>\n",
              "      <td>0.0</td>\n",
              "      <td>0.0</td>\n",
              "    </tr>\n",
              "    <tr>\n",
              "      <th>2</th>\n",
              "      <td>0.0</td>\n",
              "      <td>0.0</td>\n",
              "      <td>0.0</td>\n",
              "      <td>0.0</td>\n",
              "      <td>0.0</td>\n",
              "      <td>0.0</td>\n",
              "      <td>0.0</td>\n",
              "      <td>0.0</td>\n",
              "      <td>0.0</td>\n",
              "      <td>0.0</td>\n",
              "      <td>0.0</td>\n",
              "      <td>0.0</td>\n",
              "      <td>0.0</td>\n",
              "      <td>0.0</td>\n",
              "      <td>0.0</td>\n",
              "      <td>0.0</td>\n",
              "      <td>0.0</td>\n",
              "      <td>0.0</td>\n",
              "      <td>0.0</td>\n",
              "      <td>0.0</td>\n",
              "      <td>0.0</td>\n",
              "      <td>0.0</td>\n",
              "      <td>0.0</td>\n",
              "      <td>0.0</td>\n",
              "      <td>0.0</td>\n",
              "      <td>0.0</td>\n",
              "      <td>0.0</td>\n",
              "      <td>0.0</td>\n",
              "      <td>0.0</td>\n",
              "      <td>0.0</td>\n",
              "      <td>0.0</td>\n",
              "      <td>0.0</td>\n",
              "      <td>0.0</td>\n",
              "      <td>0.0</td>\n",
              "      <td>0.0</td>\n",
              "      <td>0.0</td>\n",
              "      <td>0.0</td>\n",
              "      <td>0.0</td>\n",
              "      <td>0.0</td>\n",
              "      <td>0.0</td>\n",
              "      <td>...</td>\n",
              "      <td>0.0</td>\n",
              "      <td>-0.047230</td>\n",
              "      <td>-0.074347</td>\n",
              "      <td>-0.225019</td>\n",
              "      <td>-0.425902</td>\n",
              "      <td>-0.041232</td>\n",
              "      <td>-0.229334</td>\n",
              "      <td>-0.288533</td>\n",
              "      <td>-0.307194</td>\n",
              "      <td>-0.429500</td>\n",
              "      <td>-0.410163</td>\n",
              "      <td>-0.335193</td>\n",
              "      <td>-1.196094</td>\n",
              "      <td>-1.192778</td>\n",
              "      <td>-0.887256</td>\n",
              "      <td>-0.887232</td>\n",
              "      <td>-0.337381</td>\n",
              "      <td>-0.559185</td>\n",
              "      <td>-0.237863</td>\n",
              "      <td>-0.089307</td>\n",
              "      <td>-0.093968</td>\n",
              "      <td>-0.212320</td>\n",
              "      <td>-0.069555</td>\n",
              "      <td>-0.054990</td>\n",
              "      <td>-0.133896</td>\n",
              "      <td>-0.126759</td>\n",
              "      <td>-0.120805</td>\n",
              "      <td>-0.38231</td>\n",
              "      <td>-0.197833</td>\n",
              "      <td>-0.111508</td>\n",
              "      <td>0.257735</td>\n",
              "      <td>-0.091380</td>\n",
              "      <td>-0.666391</td>\n",
              "      <td>-0.597313</td>\n",
              "      <td>-0.311662</td>\n",
              "      <td>-0.419913</td>\n",
              "      <td>-0.519252</td>\n",
              "      <td>0.0</td>\n",
              "      <td>0.0</td>\n",
              "      <td>0.0</td>\n",
              "    </tr>\n",
              "    <tr>\n",
              "      <th>3</th>\n",
              "      <td>0.0</td>\n",
              "      <td>0.0</td>\n",
              "      <td>0.0</td>\n",
              "      <td>0.0</td>\n",
              "      <td>0.0</td>\n",
              "      <td>0.0</td>\n",
              "      <td>0.0</td>\n",
              "      <td>0.0</td>\n",
              "      <td>0.0</td>\n",
              "      <td>0.0</td>\n",
              "      <td>0.0</td>\n",
              "      <td>0.0</td>\n",
              "      <td>0.0</td>\n",
              "      <td>0.0</td>\n",
              "      <td>0.0</td>\n",
              "      <td>0.0</td>\n",
              "      <td>0.0</td>\n",
              "      <td>0.0</td>\n",
              "      <td>0.0</td>\n",
              "      <td>0.0</td>\n",
              "      <td>0.0</td>\n",
              "      <td>0.0</td>\n",
              "      <td>0.0</td>\n",
              "      <td>0.0</td>\n",
              "      <td>0.0</td>\n",
              "      <td>0.0</td>\n",
              "      <td>0.0</td>\n",
              "      <td>0.0</td>\n",
              "      <td>0.0</td>\n",
              "      <td>0.0</td>\n",
              "      <td>0.0</td>\n",
              "      <td>0.0</td>\n",
              "      <td>0.0</td>\n",
              "      <td>0.0</td>\n",
              "      <td>0.0</td>\n",
              "      <td>0.0</td>\n",
              "      <td>0.0</td>\n",
              "      <td>0.0</td>\n",
              "      <td>0.0</td>\n",
              "      <td>0.0</td>\n",
              "      <td>...</td>\n",
              "      <td>0.0</td>\n",
              "      <td>-0.047223</td>\n",
              "      <td>-0.074595</td>\n",
              "      <td>-0.225105</td>\n",
              "      <td>-0.425902</td>\n",
              "      <td>-0.041232</td>\n",
              "      <td>-0.229334</td>\n",
              "      <td>-0.288533</td>\n",
              "      <td>-0.307912</td>\n",
              "      <td>-0.451675</td>\n",
              "      <td>-0.410163</td>\n",
              "      <td>-0.335193</td>\n",
              "      <td>-1.196094</td>\n",
              "      <td>-1.192778</td>\n",
              "      <td>-0.887256</td>\n",
              "      <td>-0.887232</td>\n",
              "      <td>-0.383459</td>\n",
              "      <td>-0.580043</td>\n",
              "      <td>-0.237863</td>\n",
              "      <td>-0.089307</td>\n",
              "      <td>-0.093968</td>\n",
              "      <td>-0.212320</td>\n",
              "      <td>-0.069546</td>\n",
              "      <td>-0.054990</td>\n",
              "      <td>-0.133896</td>\n",
              "      <td>-0.126759</td>\n",
              "      <td>-0.120805</td>\n",
              "      <td>-0.38231</td>\n",
              "      <td>-0.197833</td>\n",
              "      <td>-0.111508</td>\n",
              "      <td>-0.295936</td>\n",
              "      <td>0.001020</td>\n",
              "      <td>-0.666391</td>\n",
              "      <td>-0.719189</td>\n",
              "      <td>-0.429620</td>\n",
              "      <td>-0.419913</td>\n",
              "      <td>-0.519252</td>\n",
              "      <td>0.0</td>\n",
              "      <td>0.0</td>\n",
              "      <td>0.0</td>\n",
              "    </tr>\n",
              "    <tr>\n",
              "      <th>4</th>\n",
              "      <td>0.0</td>\n",
              "      <td>0.0</td>\n",
              "      <td>0.0</td>\n",
              "      <td>0.0</td>\n",
              "      <td>0.0</td>\n",
              "      <td>0.0</td>\n",
              "      <td>0.0</td>\n",
              "      <td>0.0</td>\n",
              "      <td>0.0</td>\n",
              "      <td>0.0</td>\n",
              "      <td>0.0</td>\n",
              "      <td>0.0</td>\n",
              "      <td>0.0</td>\n",
              "      <td>0.0</td>\n",
              "      <td>0.0</td>\n",
              "      <td>0.0</td>\n",
              "      <td>0.0</td>\n",
              "      <td>0.0</td>\n",
              "      <td>0.0</td>\n",
              "      <td>0.0</td>\n",
              "      <td>0.0</td>\n",
              "      <td>0.0</td>\n",
              "      <td>0.0</td>\n",
              "      <td>0.0</td>\n",
              "      <td>0.0</td>\n",
              "      <td>0.0</td>\n",
              "      <td>0.0</td>\n",
              "      <td>0.0</td>\n",
              "      <td>0.0</td>\n",
              "      <td>0.0</td>\n",
              "      <td>0.0</td>\n",
              "      <td>0.0</td>\n",
              "      <td>0.0</td>\n",
              "      <td>0.0</td>\n",
              "      <td>0.0</td>\n",
              "      <td>0.0</td>\n",
              "      <td>0.0</td>\n",
              "      <td>0.0</td>\n",
              "      <td>0.0</td>\n",
              "      <td>0.0</td>\n",
              "      <td>...</td>\n",
              "      <td>0.0</td>\n",
              "      <td>-0.047226</td>\n",
              "      <td>-0.074347</td>\n",
              "      <td>-0.225019</td>\n",
              "      <td>-0.425902</td>\n",
              "      <td>-0.041232</td>\n",
              "      <td>-0.229334</td>\n",
              "      <td>-0.288533</td>\n",
              "      <td>-0.307382</td>\n",
              "      <td>-0.435942</td>\n",
              "      <td>-0.410163</td>\n",
              "      <td>-0.335193</td>\n",
              "      <td>-1.196094</td>\n",
              "      <td>-1.192778</td>\n",
              "      <td>-0.887256</td>\n",
              "      <td>-0.887232</td>\n",
              "      <td>-0.337381</td>\n",
              "      <td>-0.559185</td>\n",
              "      <td>-0.237863</td>\n",
              "      <td>-0.089307</td>\n",
              "      <td>-0.093968</td>\n",
              "      <td>-0.212320</td>\n",
              "      <td>-0.069560</td>\n",
              "      <td>-0.054997</td>\n",
              "      <td>-0.133896</td>\n",
              "      <td>-0.126759</td>\n",
              "      <td>-0.120805</td>\n",
              "      <td>-0.38231</td>\n",
              "      <td>-0.197833</td>\n",
              "      <td>-0.111508</td>\n",
              "      <td>-0.203658</td>\n",
              "      <td>0.001020</td>\n",
              "      <td>-0.666391</td>\n",
              "      <td>-0.719189</td>\n",
              "      <td>-0.429620</td>\n",
              "      <td>-0.419913</td>\n",
              "      <td>-0.519252</td>\n",
              "      <td>0.0</td>\n",
              "      <td>0.0</td>\n",
              "      <td>0.0</td>\n",
              "    </tr>\n",
              "  </tbody>\n",
              "</table>\n",
              "<p>5 rows × 203 columns</p>\n",
              "</div>"
            ],
            "text/plain": [
              "   3pc  a/n  aes-sp3-d  ...  is_sm_ips_ports  is_ftp_login  label\n",
              "0  0.0  0.0        0.0  ...              0.0           0.0    0.0\n",
              "1  0.0  0.0        0.0  ...              0.0           0.0    0.0\n",
              "2  0.0  0.0        0.0  ...              0.0           0.0    0.0\n",
              "3  0.0  0.0        0.0  ...              0.0           0.0    0.0\n",
              "4  0.0  0.0        0.0  ...              0.0           0.0    0.0\n",
              "\n",
              "[5 rows x 203 columns]"
            ]
          },
          "metadata": {
            "tags": []
          },
          "execution_count": 16
        }
      ]
    },
    {
      "cell_type": "code",
      "metadata": {
        "id": "VmpIxt1JPxUH",
        "colab_type": "code",
        "colab": {}
      },
      "source": [
        "datay=all_data[[\"label\",\"attack_cat\"]]\n",
        "dataX=all_data.drop([\"label\",\"attack_cat\"],axis=1,inplace=False)"
      ],
      "execution_count": null,
      "outputs": []
    },
    {
      "cell_type": "markdown",
      "metadata": {
        "id": "ukkMoQGOlJ9o",
        "colab_type": "text"
      },
      "source": [
        "Sampling 35% of the dataset (maintaining the same proportions of attacks and normal data) as it is too large."
      ]
    },
    {
      "cell_type": "code",
      "metadata": {
        "id": "IlXdFOyeLKCo",
        "colab_type": "code",
        "colab": {}
      },
      "source": [
        "Xrest, X, yrest, y = train_test_split(dataX, datay,\n",
        "                                            test_size=0.35, stratify=datay[\"label\"])"
      ],
      "execution_count": null,
      "outputs": []
    },
    {
      "cell_type": "code",
      "metadata": {
        "id": "Mc6hTh0QPpQS",
        "colab_type": "code",
        "colab": {
          "base_uri": "https://localhost:8080/",
          "height": 34
        },
        "outputId": "a534da90-30b2-4cfb-eb22-38f31f19c242"
      },
      "source": [
        "#percentage of attacks\n",
        "np.sum(y[\"label\"] == 1)/y.shape[0]"
      ],
      "execution_count": null,
      "outputs": [
        {
          "output_type": "execute_result",
          "data": {
            "text/plain": [
              "0.12648689507624714"
            ]
          },
          "metadata": {
            "tags": []
          },
          "execution_count": 19
        }
      ]
    },
    {
      "cell_type": "code",
      "metadata": {
        "id": "Np-AYh0GQdUB",
        "colab_type": "code",
        "colab": {}
      },
      "source": [
        "#splitting into training and test sets\n",
        "X_train, X_test, y_train, y_test = train_test_split(X, y[\"label\"],\n",
        "                                            test_size=0.25, stratify=y[\"label\"])"
      ],
      "execution_count": null,
      "outputs": []
    },
    {
      "cell_type": "code",
      "metadata": {
        "id": "WatTOTpWRX2k",
        "colab_type": "code",
        "colab": {
          "base_uri": "https://localhost:8080/",
          "height": 51
        },
        "outputId": "f3bb7006-a45c-4b01-e2a4-7c8249765a31"
      },
      "source": [
        "print(\"Training set size:\",X_train.shape)\n",
        "print(\"Test set size:\",X_test.shape)"
      ],
      "execution_count": null,
      "outputs": [
        {
          "output_type": "stream",
          "text": [
            "Training set size: (666762, 47)\n",
            "Test set size: (222255, 47)\n"
          ],
          "name": "stdout"
        }
      ]
    },
    {
      "cell_type": "code",
      "metadata": {
        "id": "siiNaJlXljjJ",
        "colab_type": "code",
        "colab": {
          "base_uri": "https://localhost:8080/",
          "height": 379
        },
        "outputId": "c888e3f7-b148-430e-e5d0-28ae20f65cc8"
      },
      "source": [
        "#applying the transformations\n",
        "d_cols=droppable_cols.copy()\n",
        "d_cols.remove(\"attack_cat\")\n",
        "X_train=pd.DataFrame(ct.fit_transform(X_train.drop(columns=d_cols)))\n",
        "X_test=pd.DataFrame(ct.transform(X_test.drop(columns=d_cols)))\n",
        "n_cols=new_cols.tolist()\n",
        "n_cols.remove(\"label\")\n",
        "X_train.columns=n_cols\n",
        "X_test.columns=n_cols"
      ],
      "execution_count": null,
      "outputs": [
        {
          "output_type": "error",
          "ename": "ValueError",
          "evalue": "ignored",
          "traceback": [
            "\u001b[0;31m---------------------------------------------------------------------------\u001b[0m",
            "\u001b[0;31mValueError\u001b[0m                                Traceback (most recent call last)",
            "\u001b[0;32m<ipython-input-21-8b8f4e0a3d73>\u001b[0m in \u001b[0;36m<module>\u001b[0;34m()\u001b[0m\n\u001b[1;32m      3\u001b[0m \u001b[0md_cols\u001b[0m\u001b[0;34m.\u001b[0m\u001b[0mremove\u001b[0m\u001b[0;34m(\u001b[0m\u001b[0;34m\"attack_cat\"\u001b[0m\u001b[0;34m)\u001b[0m\u001b[0;34m\u001b[0m\u001b[0;34m\u001b[0m\u001b[0m\n\u001b[1;32m      4\u001b[0m \u001b[0mX_train\u001b[0m\u001b[0;34m=\u001b[0m\u001b[0mpd\u001b[0m\u001b[0;34m.\u001b[0m\u001b[0mDataFrame\u001b[0m\u001b[0;34m(\u001b[0m\u001b[0mct\u001b[0m\u001b[0;34m.\u001b[0m\u001b[0mfit_transform\u001b[0m\u001b[0;34m(\u001b[0m\u001b[0mX_train\u001b[0m\u001b[0;34m.\u001b[0m\u001b[0mdrop\u001b[0m\u001b[0;34m(\u001b[0m\u001b[0mcolumns\u001b[0m\u001b[0;34m=\u001b[0m\u001b[0md_cols\u001b[0m\u001b[0;34m)\u001b[0m\u001b[0;34m)\u001b[0m\u001b[0;34m)\u001b[0m\u001b[0;34m\u001b[0m\u001b[0;34m\u001b[0m\u001b[0m\n\u001b[0;32m----> 5\u001b[0;31m \u001b[0mX_test\u001b[0m\u001b[0;34m=\u001b[0m\u001b[0mpd\u001b[0m\u001b[0;34m.\u001b[0m\u001b[0mDataFrame\u001b[0m\u001b[0;34m(\u001b[0m\u001b[0mct\u001b[0m\u001b[0;34m.\u001b[0m\u001b[0mtransform\u001b[0m\u001b[0;34m(\u001b[0m\u001b[0mX_test\u001b[0m\u001b[0;34m.\u001b[0m\u001b[0mdrop\u001b[0m\u001b[0;34m(\u001b[0m\u001b[0mcolumns\u001b[0m\u001b[0;34m=\u001b[0m\u001b[0md_cols\u001b[0m\u001b[0;34m)\u001b[0m\u001b[0;34m)\u001b[0m\u001b[0;34m)\u001b[0m\u001b[0;34m\u001b[0m\u001b[0;34m\u001b[0m\u001b[0m\n\u001b[0m\u001b[1;32m      6\u001b[0m \u001b[0mn_cols\u001b[0m\u001b[0;34m=\u001b[0m\u001b[0mnew_cols\u001b[0m\u001b[0;34m.\u001b[0m\u001b[0mtolist\u001b[0m\u001b[0;34m(\u001b[0m\u001b[0;34m)\u001b[0m\u001b[0;34m\u001b[0m\u001b[0;34m\u001b[0m\u001b[0m\n\u001b[1;32m      7\u001b[0m \u001b[0mn_cols\u001b[0m\u001b[0;34m.\u001b[0m\u001b[0mremove\u001b[0m\u001b[0;34m(\u001b[0m\u001b[0;34m\"label\"\u001b[0m\u001b[0;34m)\u001b[0m\u001b[0;34m\u001b[0m\u001b[0;34m\u001b[0m\u001b[0m\n",
            "\u001b[0;32m/usr/local/lib/python3.6/dist-packages/sklearn/compose/_column_transformer.py\u001b[0m in \u001b[0;36mtransform\u001b[0;34m(self, X)\u001b[0m\n\u001b[1;32m    586\u001b[0m \u001b[0;34m\u001b[0m\u001b[0m\n\u001b[1;32m    587\u001b[0m         \u001b[0mself\u001b[0m\u001b[0;34m.\u001b[0m\u001b[0m_validate_features\u001b[0m\u001b[0;34m(\u001b[0m\u001b[0mX\u001b[0m\u001b[0;34m.\u001b[0m\u001b[0mshape\u001b[0m\u001b[0;34m[\u001b[0m\u001b[0;36m1\u001b[0m\u001b[0;34m]\u001b[0m\u001b[0;34m,\u001b[0m \u001b[0mX_feature_names\u001b[0m\u001b[0;34m)\u001b[0m\u001b[0;34m\u001b[0m\u001b[0;34m\u001b[0m\u001b[0m\n\u001b[0;32m--> 588\u001b[0;31m         \u001b[0mXs\u001b[0m \u001b[0;34m=\u001b[0m \u001b[0mself\u001b[0m\u001b[0;34m.\u001b[0m\u001b[0m_fit_transform\u001b[0m\u001b[0;34m(\u001b[0m\u001b[0mX\u001b[0m\u001b[0;34m,\u001b[0m \u001b[0;32mNone\u001b[0m\u001b[0;34m,\u001b[0m \u001b[0m_transform_one\u001b[0m\u001b[0;34m,\u001b[0m \u001b[0mfitted\u001b[0m\u001b[0;34m=\u001b[0m\u001b[0;32mTrue\u001b[0m\u001b[0;34m)\u001b[0m\u001b[0;34m\u001b[0m\u001b[0;34m\u001b[0m\u001b[0m\n\u001b[0m\u001b[1;32m    589\u001b[0m         \u001b[0mself\u001b[0m\u001b[0;34m.\u001b[0m\u001b[0m_validate_output\u001b[0m\u001b[0;34m(\u001b[0m\u001b[0mXs\u001b[0m\u001b[0;34m)\u001b[0m\u001b[0;34m\u001b[0m\u001b[0;34m\u001b[0m\u001b[0m\n\u001b[1;32m    590\u001b[0m \u001b[0;34m\u001b[0m\u001b[0m\n",
            "\u001b[0;32m/usr/local/lib/python3.6/dist-packages/sklearn/compose/_column_transformer.py\u001b[0m in \u001b[0;36m_fit_transform\u001b[0;34m(self, X, y, func, fitted)\u001b[0m\n\u001b[1;32m    455\u001b[0m                     message=self._log_message(name, idx, len(transformers)))\n\u001b[1;32m    456\u001b[0m                 for idx, (name, trans, column, weight) in enumerate(\n\u001b[0;32m--> 457\u001b[0;31m                         self._iter(fitted=fitted, replace_strings=True), 1))\n\u001b[0m\u001b[1;32m    458\u001b[0m         \u001b[0;32mexcept\u001b[0m \u001b[0mValueError\u001b[0m \u001b[0;32mas\u001b[0m \u001b[0me\u001b[0m\u001b[0;34m:\u001b[0m\u001b[0;34m\u001b[0m\u001b[0;34m\u001b[0m\u001b[0m\n\u001b[1;32m    459\u001b[0m             \u001b[0;32mif\u001b[0m \u001b[0;34m\"Expected 2D array, got 1D array instead\"\u001b[0m \u001b[0;32min\u001b[0m \u001b[0mstr\u001b[0m\u001b[0;34m(\u001b[0m\u001b[0me\u001b[0m\u001b[0;34m)\u001b[0m\u001b[0;34m:\u001b[0m\u001b[0;34m\u001b[0m\u001b[0;34m\u001b[0m\u001b[0m\n",
            "\u001b[0;32m/usr/local/lib/python3.6/dist-packages/joblib/parallel.py\u001b[0m in \u001b[0;36m__call__\u001b[0;34m(self, iterable)\u001b[0m\n\u001b[1;32m   1027\u001b[0m             \u001b[0;31m# remaining jobs.\u001b[0m\u001b[0;34m\u001b[0m\u001b[0;34m\u001b[0m\u001b[0;34m\u001b[0m\u001b[0m\n\u001b[1;32m   1028\u001b[0m             \u001b[0mself\u001b[0m\u001b[0;34m.\u001b[0m\u001b[0m_iterating\u001b[0m \u001b[0;34m=\u001b[0m \u001b[0;32mFalse\u001b[0m\u001b[0;34m\u001b[0m\u001b[0;34m\u001b[0m\u001b[0m\n\u001b[0;32m-> 1029\u001b[0;31m             \u001b[0;32mif\u001b[0m \u001b[0mself\u001b[0m\u001b[0;34m.\u001b[0m\u001b[0mdispatch_one_batch\u001b[0m\u001b[0;34m(\u001b[0m\u001b[0miterator\u001b[0m\u001b[0;34m)\u001b[0m\u001b[0;34m:\u001b[0m\u001b[0;34m\u001b[0m\u001b[0;34m\u001b[0m\u001b[0m\n\u001b[0m\u001b[1;32m   1030\u001b[0m                 \u001b[0mself\u001b[0m\u001b[0;34m.\u001b[0m\u001b[0m_iterating\u001b[0m \u001b[0;34m=\u001b[0m \u001b[0mself\u001b[0m\u001b[0;34m.\u001b[0m\u001b[0m_original_iterator\u001b[0m \u001b[0;32mis\u001b[0m \u001b[0;32mnot\u001b[0m \u001b[0;32mNone\u001b[0m\u001b[0;34m\u001b[0m\u001b[0;34m\u001b[0m\u001b[0m\n\u001b[1;32m   1031\u001b[0m \u001b[0;34m\u001b[0m\u001b[0m\n",
            "\u001b[0;32m/usr/local/lib/python3.6/dist-packages/joblib/parallel.py\u001b[0m in \u001b[0;36mdispatch_one_batch\u001b[0;34m(self, iterator)\u001b[0m\n\u001b[1;32m    845\u001b[0m                 \u001b[0;32mreturn\u001b[0m \u001b[0;32mFalse\u001b[0m\u001b[0;34m\u001b[0m\u001b[0;34m\u001b[0m\u001b[0m\n\u001b[1;32m    846\u001b[0m             \u001b[0;32melse\u001b[0m\u001b[0;34m:\u001b[0m\u001b[0;34m\u001b[0m\u001b[0;34m\u001b[0m\u001b[0m\n\u001b[0;32m--> 847\u001b[0;31m                 \u001b[0mself\u001b[0m\u001b[0;34m.\u001b[0m\u001b[0m_dispatch\u001b[0m\u001b[0;34m(\u001b[0m\u001b[0mtasks\u001b[0m\u001b[0;34m)\u001b[0m\u001b[0;34m\u001b[0m\u001b[0;34m\u001b[0m\u001b[0m\n\u001b[0m\u001b[1;32m    848\u001b[0m                 \u001b[0;32mreturn\u001b[0m \u001b[0;32mTrue\u001b[0m\u001b[0;34m\u001b[0m\u001b[0;34m\u001b[0m\u001b[0m\n\u001b[1;32m    849\u001b[0m \u001b[0;34m\u001b[0m\u001b[0m\n",
            "\u001b[0;32m/usr/local/lib/python3.6/dist-packages/joblib/parallel.py\u001b[0m in \u001b[0;36m_dispatch\u001b[0;34m(self, batch)\u001b[0m\n\u001b[1;32m    763\u001b[0m         \u001b[0;32mwith\u001b[0m \u001b[0mself\u001b[0m\u001b[0;34m.\u001b[0m\u001b[0m_lock\u001b[0m\u001b[0;34m:\u001b[0m\u001b[0;34m\u001b[0m\u001b[0;34m\u001b[0m\u001b[0m\n\u001b[1;32m    764\u001b[0m             \u001b[0mjob_idx\u001b[0m \u001b[0;34m=\u001b[0m \u001b[0mlen\u001b[0m\u001b[0;34m(\u001b[0m\u001b[0mself\u001b[0m\u001b[0;34m.\u001b[0m\u001b[0m_jobs\u001b[0m\u001b[0;34m)\u001b[0m\u001b[0;34m\u001b[0m\u001b[0;34m\u001b[0m\u001b[0m\n\u001b[0;32m--> 765\u001b[0;31m             \u001b[0mjob\u001b[0m \u001b[0;34m=\u001b[0m \u001b[0mself\u001b[0m\u001b[0;34m.\u001b[0m\u001b[0m_backend\u001b[0m\u001b[0;34m.\u001b[0m\u001b[0mapply_async\u001b[0m\u001b[0;34m(\u001b[0m\u001b[0mbatch\u001b[0m\u001b[0;34m,\u001b[0m \u001b[0mcallback\u001b[0m\u001b[0;34m=\u001b[0m\u001b[0mcb\u001b[0m\u001b[0;34m)\u001b[0m\u001b[0;34m\u001b[0m\u001b[0;34m\u001b[0m\u001b[0m\n\u001b[0m\u001b[1;32m    766\u001b[0m             \u001b[0;31m# A job can complete so quickly than its callback is\u001b[0m\u001b[0;34m\u001b[0m\u001b[0;34m\u001b[0m\u001b[0;34m\u001b[0m\u001b[0m\n\u001b[1;32m    767\u001b[0m             \u001b[0;31m# called before we get here, causing self._jobs to\u001b[0m\u001b[0;34m\u001b[0m\u001b[0;34m\u001b[0m\u001b[0;34m\u001b[0m\u001b[0m\n",
            "\u001b[0;32m/usr/local/lib/python3.6/dist-packages/joblib/_parallel_backends.py\u001b[0m in \u001b[0;36mapply_async\u001b[0;34m(self, func, callback)\u001b[0m\n\u001b[1;32m    204\u001b[0m     \u001b[0;32mdef\u001b[0m \u001b[0mapply_async\u001b[0m\u001b[0;34m(\u001b[0m\u001b[0mself\u001b[0m\u001b[0;34m,\u001b[0m \u001b[0mfunc\u001b[0m\u001b[0;34m,\u001b[0m \u001b[0mcallback\u001b[0m\u001b[0;34m=\u001b[0m\u001b[0;32mNone\u001b[0m\u001b[0;34m)\u001b[0m\u001b[0;34m:\u001b[0m\u001b[0;34m\u001b[0m\u001b[0;34m\u001b[0m\u001b[0m\n\u001b[1;32m    205\u001b[0m         \u001b[0;34m\"\"\"Schedule a func to be run\"\"\"\u001b[0m\u001b[0;34m\u001b[0m\u001b[0;34m\u001b[0m\u001b[0m\n\u001b[0;32m--> 206\u001b[0;31m         \u001b[0mresult\u001b[0m \u001b[0;34m=\u001b[0m \u001b[0mImmediateResult\u001b[0m\u001b[0;34m(\u001b[0m\u001b[0mfunc\u001b[0m\u001b[0;34m)\u001b[0m\u001b[0;34m\u001b[0m\u001b[0;34m\u001b[0m\u001b[0m\n\u001b[0m\u001b[1;32m    207\u001b[0m         \u001b[0;32mif\u001b[0m \u001b[0mcallback\u001b[0m\u001b[0;34m:\u001b[0m\u001b[0;34m\u001b[0m\u001b[0;34m\u001b[0m\u001b[0m\n\u001b[1;32m    208\u001b[0m             \u001b[0mcallback\u001b[0m\u001b[0;34m(\u001b[0m\u001b[0mresult\u001b[0m\u001b[0;34m)\u001b[0m\u001b[0;34m\u001b[0m\u001b[0;34m\u001b[0m\u001b[0m\n",
            "\u001b[0;32m/usr/local/lib/python3.6/dist-packages/joblib/_parallel_backends.py\u001b[0m in \u001b[0;36m__init__\u001b[0;34m(self, batch)\u001b[0m\n\u001b[1;32m    568\u001b[0m         \u001b[0;31m# Don't delay the application, to avoid keeping the input\u001b[0m\u001b[0;34m\u001b[0m\u001b[0;34m\u001b[0m\u001b[0;34m\u001b[0m\u001b[0m\n\u001b[1;32m    569\u001b[0m         \u001b[0;31m# arguments in memory\u001b[0m\u001b[0;34m\u001b[0m\u001b[0;34m\u001b[0m\u001b[0;34m\u001b[0m\u001b[0m\n\u001b[0;32m--> 570\u001b[0;31m         \u001b[0mself\u001b[0m\u001b[0;34m.\u001b[0m\u001b[0mresults\u001b[0m \u001b[0;34m=\u001b[0m \u001b[0mbatch\u001b[0m\u001b[0;34m(\u001b[0m\u001b[0;34m)\u001b[0m\u001b[0;34m\u001b[0m\u001b[0;34m\u001b[0m\u001b[0m\n\u001b[0m\u001b[1;32m    571\u001b[0m \u001b[0;34m\u001b[0m\u001b[0m\n\u001b[1;32m    572\u001b[0m     \u001b[0;32mdef\u001b[0m \u001b[0mget\u001b[0m\u001b[0;34m(\u001b[0m\u001b[0mself\u001b[0m\u001b[0;34m)\u001b[0m\u001b[0;34m:\u001b[0m\u001b[0;34m\u001b[0m\u001b[0;34m\u001b[0m\u001b[0m\n",
            "\u001b[0;32m/usr/local/lib/python3.6/dist-packages/joblib/parallel.py\u001b[0m in \u001b[0;36m__call__\u001b[0;34m(self)\u001b[0m\n\u001b[1;32m    251\u001b[0m         \u001b[0;32mwith\u001b[0m \u001b[0mparallel_backend\u001b[0m\u001b[0;34m(\u001b[0m\u001b[0mself\u001b[0m\u001b[0;34m.\u001b[0m\u001b[0m_backend\u001b[0m\u001b[0;34m,\u001b[0m \u001b[0mn_jobs\u001b[0m\u001b[0;34m=\u001b[0m\u001b[0mself\u001b[0m\u001b[0;34m.\u001b[0m\u001b[0m_n_jobs\u001b[0m\u001b[0;34m)\u001b[0m\u001b[0;34m:\u001b[0m\u001b[0;34m\u001b[0m\u001b[0;34m\u001b[0m\u001b[0m\n\u001b[1;32m    252\u001b[0m             return [func(*args, **kwargs)\n\u001b[0;32m--> 253\u001b[0;31m                     for func, args, kwargs in self.items]\n\u001b[0m\u001b[1;32m    254\u001b[0m \u001b[0;34m\u001b[0m\u001b[0m\n\u001b[1;32m    255\u001b[0m     \u001b[0;32mdef\u001b[0m \u001b[0m__reduce__\u001b[0m\u001b[0;34m(\u001b[0m\u001b[0mself\u001b[0m\u001b[0;34m)\u001b[0m\u001b[0;34m:\u001b[0m\u001b[0;34m\u001b[0m\u001b[0;34m\u001b[0m\u001b[0m\n",
            "\u001b[0;32m/usr/local/lib/python3.6/dist-packages/joblib/parallel.py\u001b[0m in \u001b[0;36m<listcomp>\u001b[0;34m(.0)\u001b[0m\n\u001b[1;32m    251\u001b[0m         \u001b[0;32mwith\u001b[0m \u001b[0mparallel_backend\u001b[0m\u001b[0;34m(\u001b[0m\u001b[0mself\u001b[0m\u001b[0;34m.\u001b[0m\u001b[0m_backend\u001b[0m\u001b[0;34m,\u001b[0m \u001b[0mn_jobs\u001b[0m\u001b[0;34m=\u001b[0m\u001b[0mself\u001b[0m\u001b[0;34m.\u001b[0m\u001b[0m_n_jobs\u001b[0m\u001b[0;34m)\u001b[0m\u001b[0;34m:\u001b[0m\u001b[0;34m\u001b[0m\u001b[0;34m\u001b[0m\u001b[0m\n\u001b[1;32m    252\u001b[0m             return [func(*args, **kwargs)\n\u001b[0;32m--> 253\u001b[0;31m                     for func, args, kwargs in self.items]\n\u001b[0m\u001b[1;32m    254\u001b[0m \u001b[0;34m\u001b[0m\u001b[0m\n\u001b[1;32m    255\u001b[0m     \u001b[0;32mdef\u001b[0m \u001b[0m__reduce__\u001b[0m\u001b[0;34m(\u001b[0m\u001b[0mself\u001b[0m\u001b[0;34m)\u001b[0m\u001b[0;34m:\u001b[0m\u001b[0;34m\u001b[0m\u001b[0;34m\u001b[0m\u001b[0m\n",
            "\u001b[0;32m/usr/local/lib/python3.6/dist-packages/sklearn/pipeline.py\u001b[0m in \u001b[0;36m_transform_one\u001b[0;34m(transformer, X, y, weight, **fit_params)\u001b[0m\n\u001b[1;32m    705\u001b[0m \u001b[0;34m\u001b[0m\u001b[0m\n\u001b[1;32m    706\u001b[0m \u001b[0;32mdef\u001b[0m \u001b[0m_transform_one\u001b[0m\u001b[0;34m(\u001b[0m\u001b[0mtransformer\u001b[0m\u001b[0;34m,\u001b[0m \u001b[0mX\u001b[0m\u001b[0;34m,\u001b[0m \u001b[0my\u001b[0m\u001b[0;34m,\u001b[0m \u001b[0mweight\u001b[0m\u001b[0;34m,\u001b[0m \u001b[0;34m**\u001b[0m\u001b[0mfit_params\u001b[0m\u001b[0;34m)\u001b[0m\u001b[0;34m:\u001b[0m\u001b[0;34m\u001b[0m\u001b[0;34m\u001b[0m\u001b[0m\n\u001b[0;32m--> 707\u001b[0;31m     \u001b[0mres\u001b[0m \u001b[0;34m=\u001b[0m \u001b[0mtransformer\u001b[0m\u001b[0;34m.\u001b[0m\u001b[0mtransform\u001b[0m\u001b[0;34m(\u001b[0m\u001b[0mX\u001b[0m\u001b[0;34m)\u001b[0m\u001b[0;34m\u001b[0m\u001b[0;34m\u001b[0m\u001b[0m\n\u001b[0m\u001b[1;32m    708\u001b[0m     \u001b[0;31m# if we have a weight for this transformer, multiply output\u001b[0m\u001b[0;34m\u001b[0m\u001b[0;34m\u001b[0m\u001b[0;34m\u001b[0m\u001b[0m\n\u001b[1;32m    709\u001b[0m     \u001b[0;32mif\u001b[0m \u001b[0mweight\u001b[0m \u001b[0;32mis\u001b[0m \u001b[0;32mNone\u001b[0m\u001b[0;34m:\u001b[0m\u001b[0;34m\u001b[0m\u001b[0;34m\u001b[0m\u001b[0m\n",
            "\u001b[0;32m/usr/local/lib/python3.6/dist-packages/sklearn/pipeline.py\u001b[0m in \u001b[0;36m_transform\u001b[0;34m(self, X)\u001b[0m\n\u001b[1;32m    555\u001b[0m         \u001b[0mXt\u001b[0m \u001b[0;34m=\u001b[0m \u001b[0mX\u001b[0m\u001b[0;34m\u001b[0m\u001b[0;34m\u001b[0m\u001b[0m\n\u001b[1;32m    556\u001b[0m         \u001b[0;32mfor\u001b[0m \u001b[0m_\u001b[0m\u001b[0;34m,\u001b[0m \u001b[0m_\u001b[0m\u001b[0;34m,\u001b[0m \u001b[0mtransform\u001b[0m \u001b[0;32min\u001b[0m \u001b[0mself\u001b[0m\u001b[0;34m.\u001b[0m\u001b[0m_iter\u001b[0m\u001b[0;34m(\u001b[0m\u001b[0;34m)\u001b[0m\u001b[0;34m:\u001b[0m\u001b[0;34m\u001b[0m\u001b[0;34m\u001b[0m\u001b[0m\n\u001b[0;32m--> 557\u001b[0;31m             \u001b[0mXt\u001b[0m \u001b[0;34m=\u001b[0m \u001b[0mtransform\u001b[0m\u001b[0;34m.\u001b[0m\u001b[0mtransform\u001b[0m\u001b[0;34m(\u001b[0m\u001b[0mXt\u001b[0m\u001b[0;34m)\u001b[0m\u001b[0;34m\u001b[0m\u001b[0;34m\u001b[0m\u001b[0m\n\u001b[0m\u001b[1;32m    558\u001b[0m         \u001b[0;32mreturn\u001b[0m \u001b[0mXt\u001b[0m\u001b[0;34m\u001b[0m\u001b[0;34m\u001b[0m\u001b[0m\n\u001b[1;32m    559\u001b[0m \u001b[0;34m\u001b[0m\u001b[0m\n",
            "\u001b[0;32m/usr/local/lib/python3.6/dist-packages/sklearn/preprocessing/_encoders.py\u001b[0m in \u001b[0;36mtransform\u001b[0;34m(self, X)\u001b[0m\n\u001b[1;32m    388\u001b[0m         \u001b[0mcheck_is_fitted\u001b[0m\u001b[0;34m(\u001b[0m\u001b[0mself\u001b[0m\u001b[0;34m)\u001b[0m\u001b[0;34m\u001b[0m\u001b[0;34m\u001b[0m\u001b[0m\n\u001b[1;32m    389\u001b[0m         \u001b[0;31m# validation of X happens in _check_X called by _transform\u001b[0m\u001b[0;34m\u001b[0m\u001b[0;34m\u001b[0m\u001b[0;34m\u001b[0m\u001b[0m\n\u001b[0;32m--> 390\u001b[0;31m         \u001b[0mX_int\u001b[0m\u001b[0;34m,\u001b[0m \u001b[0mX_mask\u001b[0m \u001b[0;34m=\u001b[0m \u001b[0mself\u001b[0m\u001b[0;34m.\u001b[0m\u001b[0m_transform\u001b[0m\u001b[0;34m(\u001b[0m\u001b[0mX\u001b[0m\u001b[0;34m,\u001b[0m \u001b[0mhandle_unknown\u001b[0m\u001b[0;34m=\u001b[0m\u001b[0mself\u001b[0m\u001b[0;34m.\u001b[0m\u001b[0mhandle_unknown\u001b[0m\u001b[0;34m)\u001b[0m\u001b[0;34m\u001b[0m\u001b[0;34m\u001b[0m\u001b[0m\n\u001b[0m\u001b[1;32m    391\u001b[0m \u001b[0;34m\u001b[0m\u001b[0m\n\u001b[1;32m    392\u001b[0m         \u001b[0mn_samples\u001b[0m\u001b[0;34m,\u001b[0m \u001b[0mn_features\u001b[0m \u001b[0;34m=\u001b[0m \u001b[0mX_int\u001b[0m\u001b[0;34m.\u001b[0m\u001b[0mshape\u001b[0m\u001b[0;34m\u001b[0m\u001b[0;34m\u001b[0m\u001b[0m\n",
            "\u001b[0;32m/usr/local/lib/python3.6/dist-packages/sklearn/preprocessing/_encoders.py\u001b[0m in \u001b[0;36m_transform\u001b[0;34m(self, X, handle_unknown)\u001b[0m\n\u001b[1;32m    122\u001b[0m                     msg = (\"Found unknown categories {0} in column {1}\"\n\u001b[1;32m    123\u001b[0m                            \" during transform\".format(diff, i))\n\u001b[0;32m--> 124\u001b[0;31m                     \u001b[0;32mraise\u001b[0m \u001b[0mValueError\u001b[0m\u001b[0;34m(\u001b[0m\u001b[0mmsg\u001b[0m\u001b[0;34m)\u001b[0m\u001b[0;34m\u001b[0m\u001b[0;34m\u001b[0m\u001b[0m\n\u001b[0m\u001b[1;32m    125\u001b[0m                 \u001b[0;32melse\u001b[0m\u001b[0;34m:\u001b[0m\u001b[0;34m\u001b[0m\u001b[0;34m\u001b[0m\u001b[0m\n\u001b[1;32m    126\u001b[0m                     \u001b[0;31m# Set the problematic rows to an acceptable value and\u001b[0m\u001b[0;34m\u001b[0m\u001b[0;34m\u001b[0m\u001b[0;34m\u001b[0m\u001b[0m\n",
            "\u001b[0;31mValueError\u001b[0m: Found unknown categories ['no'] in column 1 during transform"
          ]
        }
      ]
    },
    {
      "cell_type": "code",
      "metadata": {
        "id": "F-HjHJfkmRhY",
        "colab_type": "code",
        "colab": {}
      },
      "source": [
        "X_train"
      ],
      "execution_count": null,
      "outputs": []
    },
    {
      "cell_type": "markdown",
      "metadata": {
        "id": "EwT0tpZRl5QY",
        "colab_type": "text"
      },
      "source": [
        "##Visualization of full dataset"
      ]
    },
    {
      "cell_type": "code",
      "metadata": {
        "id": "oAp5_mnTbsS2",
        "colab_type": "code",
        "colab": {
          "base_uri": "https://localhost:8080/",
          "height": 298
        },
        "outputId": "fd161c2b-7890-4af4-b236-213539b36033"
      },
      "source": [
        "pca=PCA(n_components=2)\n",
        "mask= y_train==1\n",
        "X_trainPCA=pca.fit_transform(X_train)\n",
        "plt.scatter(X_trainPCA[mask,0], X_trainPCA[mask,1],label=\"attack\")\n",
        "plt.scatter(X_trainPCA[~mask,0], X_trainPCA[~mask,1],label=\"normal\")\n",
        "plt.title(\"Visualization of training data (667k) in 2D\")\n",
        "plt.legend()"
      ],
      "execution_count": null,
      "outputs": [
        {
          "output_type": "execute_result",
          "data": {
            "text/plain": [
              "<matplotlib.legend.Legend at 0x7ff20c963550>"
            ]
          },
          "metadata": {
            "tags": []
          },
          "execution_count": 55
        },
        {
          "output_type": "display_data",
          "data": {
            "image/png": "[encoded data removed]",
            "text/plain": [
              "<Figure size 432x288 with 1 Axes>"
            ]
          },
          "metadata": {
            "tags": [],
            "needs_background": "light"
          }
        }
      ]
    },
    {
      "cell_type": "markdown",
      "metadata": {
        "id": "aepLI4X3mbf9",
        "colab_type": "text"
      },
      "source": [
        "##Training and testing classifiers"
      ]
    },
    {
      "cell_type": "code",
      "metadata": {
        "id": "ocp-9vVARgRA",
        "colab_type": "code",
        "colab": {}
      },
      "source": [
        "classifiers = {\n",
        "    'knn': KNeighborsClassifier() ,\n",
        "    'lgr': LogisticRegression(random_state=42) ,\n",
        "    'gnb': GaussianNB() ,\n",
        "    'dtc': DecisionTreeClassifier(random_state=42) ,\n",
        "    'rfc': RandomForestClassifier(random_state=42) ,\n",
        "    'gbc': GradientBoostingClassifier(random_state=42) \n",
        "}"
      ],
      "execution_count": null,
      "outputs": []
    },
    {
      "cell_type": "code",
      "metadata": {
        "id": "rTNxKrSeSnQK",
        "colab_type": "code",
        "colab": {
          "base_uri": "https://localhost:8080/",
          "height": 1000
        },
        "outputId": "731dea0a-c928-4cb9-f9f7-14eb210d39db"
      },
      "source": [
        "for clf_name,clf in classifiers.items():\n",
        "  print(clf_name)\n",
        "  clf.fit(X_train,y_train)\n",
        "  print(\"Training Accuracy:\",clf.score(X_train,y_train))\n",
        "  y_pred=clf.predict(X_test)\n",
        "  print(\"Test Accuracy:\",accuracy_score(y_test,y_pred))\n",
        "  print('Test AUC score:', roc_auc_score(y_test,y_pred))\n",
        "  print(\"Confusion_matrix:\")\n",
        "  print(confusion_matrix(y_test, y_pred))\n",
        "  print(classification_report(y_test,y_pred))"
      ],
      "execution_count": null,
      "outputs": [
        {
          "output_type": "stream",
          "text": [
            "knn\n",
            "Training Accuracy: 0.9932239689724369\n",
            "Test Accuracy: 0.9898674945445547\n",
            "Test AUC score: 0.9773011996638872\n",
            "Confusion_matrix:\n",
            "[[193002   1141]\n",
            " [  1111  27001]]\n",
            "              precision    recall  f1-score   support\n",
            "\n",
            "           0       0.99      0.99      0.99    194143\n",
            "           1       0.96      0.96      0.96     28112\n",
            "\n",
            "    accuracy                           0.99    222255\n",
            "   macro avg       0.98      0.98      0.98    222255\n",
            "weighted avg       0.99      0.99      0.99    222255\n",
            "\n",
            "lgr\n"
          ],
          "name": "stdout"
        },
        {
          "output_type": "stream",
          "text": [
            "/usr/local/lib/python3.6/dist-packages/sklearn/linear_model/_logistic.py:940: ConvergenceWarning: lbfgs failed to converge (status=1):\n",
            "STOP: TOTAL NO. of ITERATIONS REACHED LIMIT.\n",
            "\n",
            "Increase the number of iterations (max_iter) or scale the data as shown in:\n",
            "    https://scikit-learn.org/stable/modules/preprocessing.html\n",
            "Please also refer to the documentation for alternative solver options:\n",
            "    https://scikit-learn.org/stable/modules/linear_model.html#logistic-regression\n",
            "  extra_warning_msg=_LOGISTIC_SOLVER_CONVERGENCE_MSG)\n"
          ],
          "name": "stderr"
        },
        {
          "output_type": "stream",
          "text": [
            "Training Accuracy: 0.9890065720601954\n",
            "Test Accuracy: 0.9891925940923714\n",
            "Test AUC score: 0.9834402242948844\n",
            "Confusion_matrix:\n",
            "[[192423   1720]\n",
            " [   682  27430]]\n",
            "              precision    recall  f1-score   support\n",
            "\n",
            "           0       1.00      0.99      0.99    194143\n",
            "           1       0.94      0.98      0.96     28112\n",
            "\n",
            "    accuracy                           0.99    222255\n",
            "   macro avg       0.97      0.98      0.98    222255\n",
            "weighted avg       0.99      0.99      0.99    222255\n",
            "\n",
            "gnb\n",
            "Training Accuracy: 0.8945005864161425\n",
            "Test Accuracy: 0.8932262491282535\n",
            "Test AUC score: 0.9294064893852731\n",
            "Confusion_matrix:\n",
            "[[171035  23108]\n",
            " [   623  27489]]\n",
            "              precision    recall  f1-score   support\n",
            "\n",
            "           0       1.00      0.88      0.94    194143\n",
            "           1       0.54      0.98      0.70     28112\n",
            "\n",
            "    accuracy                           0.89    222255\n",
            "   macro avg       0.77      0.93      0.82    222255\n",
            "weighted avg       0.94      0.89      0.91    222255\n",
            "\n",
            "dtc\n",
            "Training Accuracy: 0.9998575203745864\n",
            "Test Accuracy: 0.9918292051922342\n",
            "Test AUC score: 0.9816183046183347\n",
            "Confusion_matrix:\n",
            "[[193228    915]\n",
            " [   901  27211]]\n",
            "              precision    recall  f1-score   support\n",
            "\n",
            "           0       1.00      1.00      1.00    194143\n",
            "           1       0.97      0.97      0.97     28112\n",
            "\n",
            "    accuracy                           0.99    222255\n",
            "   macro avg       0.98      0.98      0.98    222255\n",
            "weighted avg       0.99      0.99      0.99    222255\n",
            "\n",
            "rfc\n",
            "Training Accuracy: 0.9998440223048104\n",
            "Test Accuracy: 0.993651436413129\n",
            "Test AUC score: 0.9853840436080699\n",
            "Confusion_matrix:\n",
            "[[193454    689]\n",
            " [   722  27390]]\n",
            "              precision    recall  f1-score   support\n",
            "\n",
            "           0       1.00      1.00      1.00    194143\n",
            "           1       0.98      0.97      0.97     28112\n",
            "\n",
            "    accuracy                           0.99    222255\n",
            "   macro avg       0.99      0.99      0.99    222255\n",
            "weighted avg       0.99      0.99      0.99    222255\n",
            "\n",
            "gbc\n",
            "Training Accuracy: 0.9923870886463235\n",
            "Test Accuracy: 0.9919821826280624\n",
            "Test AUC score: 0.9833181901705446\n",
            "Confusion_matrix:\n",
            "[[193156    987]\n",
            " [   795  27317]]\n",
            "              precision    recall  f1-score   support\n",
            "\n",
            "           0       1.00      0.99      1.00    194143\n",
            "           1       0.97      0.97      0.97     28112\n",
            "\n",
            "    accuracy                           0.99    222255\n",
            "   macro avg       0.98      0.98      0.98    222255\n",
            "weighted avg       0.99      0.99      0.99    222255\n",
            "\n"
          ],
          "name": "stdout"
        }
      ]
    },
    {
      "cell_type": "markdown",
      "metadata": {
        "id": "5bmpC8_0myPB",
        "colab_type": "text"
      },
      "source": [
        "Observing the precision and recall scores of the above classifiers, random forest classifier gives the best performance"
      ]
    },
    {
      "cell_type": "code",
      "metadata": {
        "id": "5_UkRILojbmg",
        "colab_type": "code",
        "colab": {
          "base_uri": "https://localhost:8080/",
          "height": 34
        },
        "outputId": "286e9591-c6df-4fd6-fcc2-ccda98b8624d"
      },
      "source": [
        "#testing on another random sample from the full dataset.\n",
        "Xrest, X_randtest, yrest, y_randtest = train_test_split(dataX, datay,\n",
        "                                            test_size=0.2)\n",
        "print(X_randtest.shape)"
      ],
      "execution_count": null,
      "outputs": [
        {
          "output_type": "stream",
          "text": [
            "(508010, 47)\n"
          ],
          "name": "stdout"
        }
      ]
    },
    {
      "cell_type": "code",
      "metadata": {
        "id": "IP6vdtUu95m4",
        "colab_type": "code",
        "colab": {}
      },
      "source": [
        "X_randtest=pd.DataFrame(ct.transform(X_randtest.drop(columns=d_cols)))\n",
        "X_randtest.columns=n_cols"
      ],
      "execution_count": null,
      "outputs": []
    },
    {
      "cell_type": "code",
      "metadata": {
        "id": "h9wNYNv_9d1L",
        "colab_type": "code",
        "colab": {
          "base_uri": "https://localhost:8080/",
          "height": 275
        },
        "outputId": "88d135cf-5964-4355-9a03-349fb297f3f4"
      },
      "source": [
        "rfc=RandomForestClassifier(random_state=42)\n",
        "rfc.fit(X_train,y_train)\n",
        "print(\"Training Accuracy:\",rfc.score(X_train,y_train))\n",
        "y_pred=rfc.predict(X_randtest)\n",
        "print(\"Test Accuracy:\",accuracy_score(y_randtest['label'],y_pred))\n",
        "print('Test AUC score:', roc_auc_score(y_randtest['label'],y_pred))\n",
        "print(\"Confusion_matrix:\")\n",
        "print(confusion_matrix(y_randtest['label'], y_pred))\n",
        "print(classification_report(y_randtest['label'],y_pred))"
      ],
      "execution_count": null,
      "outputs": [
        {
          "output_type": "stream",
          "text": [
            "Training Accuracy: 0.9998485216614024\n",
            "Test Accuracy: 0.9950768685655794\n",
            "Test AUC score: 0.9885764479076019\n",
            "Confusion_matrix:\n",
            "[[442384   1204]\n",
            " [  1297  63125]]\n",
            "              precision    recall  f1-score   support\n",
            "\n",
            "           0       1.00      1.00      1.00    443588\n",
            "           1       0.98      0.98      0.98     64422\n",
            "\n",
            "    accuracy                           1.00    508010\n",
            "   macro avg       0.99      0.99      0.99    508010\n",
            "weighted avg       1.00      1.00      1.00    508010\n",
            "\n"
          ],
          "name": "stdout"
        }
      ]
    },
    {
      "cell_type": "code",
      "metadata": {
        "id": "cXqRaXO1JMqI",
        "colab_type": "code",
        "colab": {
          "base_uri": "https://localhost:8080/",
          "height": 34
        },
        "outputId": "d6adfab7-feaf-424d-d622-4727e2fc4baa"
      },
      "source": [
        "path"
      ],
      "execution_count": null,
      "outputs": [
        {
          "output_type": "execute_result",
          "data": {
            "text/plain": [
              "'/content/drive/My Drive/DDoS attack - Mini Project'"
            ]
          },
          "metadata": {
            "tags": []
          },
          "execution_count": 47
        }
      ]
    },
    {
      "cell_type": "code",
      "metadata": {
        "id": "Ub0MXM8VHY5q",
        "colab_type": "code",
        "colab": {
          "base_uri": "https://localhost:8080/",
          "height": 254
        },
        "outputId": "c9d49bc4-8df6-4cba-d283-df27eec254f7"
      },
      "source": [
        "import pickle\n",
        "from sklearn.externals import joblib\n",
        "filename=path+'/rfcbinary.pkl'\n",
        "joblib.dump(rfc,filename)"
      ],
      "execution_count": null,
      "outputs": [
        {
          "output_type": "stream",
          "text": [
            "/usr/local/lib/python3.6/dist-packages/sklearn/externals/joblib/__init__.py:15: FutureWarning: sklearn.externals.joblib is deprecated in 0.21 and will be removed in 0.23. Please import this functionality directly from joblib, which can be installed with: pip install joblib. If this warning is raised when loading pickled models, you may need to re-serialize those models with scikit-learn 0.21+.\n",
            "  warnings.warn(msg, category=FutureWarning)\n"
          ],
          "name": "stderr"
        },
        {
          "output_type": "error",
          "ename": "NameError",
          "evalue": "ignored",
          "traceback": [
            "\u001b[0;31m---------------------------------------------------------------------------\u001b[0m",
            "\u001b[0;31mNameError\u001b[0m                                 Traceback (most recent call last)",
            "\u001b[0;32m<ipython-input-30-0b85ed1eefec>\u001b[0m in \u001b[0;36m<module>\u001b[0;34m()\u001b[0m\n\u001b[1;32m      2\u001b[0m \u001b[0;32mfrom\u001b[0m \u001b[0msklearn\u001b[0m\u001b[0;34m.\u001b[0m\u001b[0mexternals\u001b[0m \u001b[0;32mimport\u001b[0m \u001b[0mjoblib\u001b[0m\u001b[0;34m\u001b[0m\u001b[0;34m\u001b[0m\u001b[0m\n\u001b[1;32m      3\u001b[0m \u001b[0mfilename\u001b[0m\u001b[0;34m=\u001b[0m\u001b[0mpath\u001b[0m\u001b[0;34m+\u001b[0m\u001b[0;34m'/rfcbinary.pkl'\u001b[0m\u001b[0;34m\u001b[0m\u001b[0;34m\u001b[0m\u001b[0m\n\u001b[0;32m----> 4\u001b[0;31m \u001b[0mjoblib\u001b[0m\u001b[0;34m.\u001b[0m\u001b[0mdump\u001b[0m\u001b[0;34m(\u001b[0m\u001b[0mrfc\u001b[0m\u001b[0;34m,\u001b[0m\u001b[0mfilename\u001b[0m\u001b[0;34m)\u001b[0m\u001b[0;34m\u001b[0m\u001b[0;34m\u001b[0m\u001b[0m\n\u001b[0m",
            "\u001b[0;31mNameError\u001b[0m: name 'rfc' is not defined"
          ]
        }
      ]
    },
    {
      "cell_type": "code",
      "metadata": {
        "id": "3cXkEFNiKqmd",
        "colab_type": "code",
        "colab": {
          "base_uri": "https://localhost:8080/",
          "height": 258
        },
        "outputId": "79894614-0810-4640-9449-bdef6eba3fd9"
      },
      "source": [
        "rfcloaded=joblib.load(filename)\n",
        "y_pred=rfcloaded.predict(X_randtest)\n",
        "print(\"Test Accuracy:\",accuracy_score(y_randtest['label'],y_pred))\n",
        "print('Test AUC score:', roc_auc_score(y_randtest['label'],y_pred))\n",
        "print(\"Confusion_matrix:\")\n",
        "print(confusion_matrix(y_randtest['label'], y_pred))\n",
        "print(classification_report(y_randtest['label'],y_pred))"
      ],
      "execution_count": null,
      "outputs": [
        {
          "output_type": "stream",
          "text": [
            "Test Accuracy: 0.9929922639318124\n",
            "Test AUC score: 0.9891443125273092\n",
            "Confusion_matrix:\n",
            "[[441307   2533]\n",
            " [  1027  63143]]\n",
            "              precision    recall  f1-score   support\n",
            "\n",
            "           0       1.00      0.99      1.00    443840\n",
            "           1       0.96      0.98      0.97     64170\n",
            "\n",
            "    accuracy                           0.99    508010\n",
            "   macro avg       0.98      0.99      0.98    508010\n",
            "weighted avg       0.99      0.99      0.99    508010\n",
            "\n"
          ],
          "name": "stdout"
        }
      ]
    },
    {
      "cell_type": "markdown",
      "metadata": {
        "id": "beoHfAhynTGX",
        "colab_type": "text"
      },
      "source": [
        "##Multi-Class Classification\n",
        "After detection of an attack, classifying the type of attack is the next step"
      ]
    },
    {
      "cell_type": "code",
      "metadata": {
        "id": "_2014gI7-Ps1",
        "colab_type": "code",
        "colab": {
          "base_uri": "https://localhost:8080/",
          "height": 34
        },
        "outputId": "ef123daf-650e-46ee-f767-f90537eb0009"
      },
      "source": [
        "all_attackdata=all_data[all_data[\"label\"]==1]\n",
        "all_attackdata.shape"
      ],
      "execution_count": null,
      "outputs": [
        {
          "output_type": "execute_result",
          "data": {
            "text/plain": [
              "(321283, 49)"
            ]
          },
          "metadata": {
            "tags": []
          },
          "execution_count": 22
        }
      ]
    },
    {
      "cell_type": "code",
      "metadata": {
        "id": "Day2iNiZTSUO",
        "colab_type": "code",
        "colab": {
          "base_uri": "https://localhost:8080/",
          "height": 206
        },
        "outputId": "67b5e8ba-9313-47b4-f127-f32c8ee8070d"
      },
      "source": [
        "all_attackdata.attack_cat.value_counts()"
      ],
      "execution_count": null,
      "outputs": [
        {
          "output_type": "execute_result",
          "data": {
            "text/plain": [
              "generic           215481\n",
              "exploits           44525\n",
              "fuzzers            24246\n",
              "dos                16353\n",
              "reconnaissance     13987\n",
              "analysis            2677\n",
              "backdoor            1795\n",
              "shellcode           1511\n",
              "backdoors            534\n",
              "worms                174\n",
              "Name: attack_cat, dtype: int64"
            ]
          },
          "metadata": {
            "tags": []
          },
          "execution_count": 23
        }
      ]
    },
    {
      "cell_type": "code",
      "metadata": {
        "id": "DZ07Lre80P00",
        "colab_type": "code",
        "colab": {
          "base_uri": "https://localhost:8080/",
          "height": 292
        },
        "outputId": "e6a470b1-8693-4c38-f2f3-513d2bb8a727"
      },
      "source": [
        "#data preprocessing\n",
        "all_attackdata['attack_cat'] = all_attackdata.attack_cat.replace(to_replace='backdoors', value=\"backdoor\").astype(object)\n",
        "all_attackdata.attack_cat.value_counts()"
      ],
      "execution_count": null,
      "outputs": [
        {
          "output_type": "stream",
          "text": [
            "/usr/local/lib/python3.6/dist-packages/ipykernel_launcher.py:2: SettingWithCopyWarning: \n",
            "A value is trying to be set on a copy of a slice from a DataFrame.\n",
            "Try using .loc[row_indexer,col_indexer] = value instead\n",
            "\n",
            "See the caveats in the documentation: https://pandas.pydata.org/pandas-docs/stable/user_guide/indexing.html#returning-a-view-versus-a-copy\n",
            "  \n"
          ],
          "name": "stderr"
        },
        {
          "output_type": "execute_result",
          "data": {
            "text/plain": [
              "generic           215481\n",
              "exploits           44525\n",
              "fuzzers            24246\n",
              "dos                16353\n",
              "reconnaissance     13987\n",
              "analysis            2677\n",
              "backdoor            2329\n",
              "shellcode           1511\n",
              "worms                174\n",
              "Name: attack_cat, dtype: int64"
            ]
          },
          "metadata": {
            "tags": []
          },
          "execution_count": 24
        }
      ]
    },
    {
      "cell_type": "markdown",
      "metadata": {
        "id": "wrtNbn81n6mw",
        "colab_type": "text"
      },
      "source": [
        "There are 9 different types of attacks in the dataset as shown above along with their counts."
      ]
    },
    {
      "cell_type": "code",
      "metadata": {
        "id": "wsfGC85qOfCZ",
        "colab_type": "code",
        "colab": {
          "base_uri": "https://localhost:8080/",
          "height": 137
        },
        "outputId": "599748a5-16ef-4503-b69f-8b71aff447e9"
      },
      "source": [
        "#splitting into training and test set\n",
        "all_attackdata.drop([\"label\"],axis=1,inplace=True)\n",
        "attackdataX=all_attackdata.drop(['attack_cat'],axis=1,inplace=False)\n",
        "attackdatay=all_attackdata[\"attack_cat\"]\n",
        "attackX_train,attackX_test,attacky_train,attacky_test=train_test_split(attackdataX,attackdatay,test_size=0.2,stratify=attackdatay)\n",
        "print(\"Training size:\",attackX_train.shape)\n",
        "print(\"Test set size:\",attackX_test.shape)"
      ],
      "execution_count": null,
      "outputs": [
        {
          "output_type": "stream",
          "text": [
            "/usr/local/lib/python3.6/dist-packages/pandas/core/frame.py:3997: SettingWithCopyWarning: \n",
            "A value is trying to be set on a copy of a slice from a DataFrame\n",
            "\n",
            "See the caveats in the documentation: https://pandas.pydata.org/pandas-docs/stable/user_guide/indexing.html#returning-a-view-versus-a-copy\n",
            "  errors=errors,\n"
          ],
          "name": "stderr"
        },
        {
          "output_type": "stream",
          "text": [
            "Training size: (257026, 47)\n",
            "Test set size: (64257, 47)\n"
          ],
          "name": "stdout"
        }
      ]
    },
    {
      "cell_type": "code",
      "metadata": {
        "id": "lI1PRAKBvj5e",
        "colab_type": "code",
        "colab": {}
      },
      "source": [
        "#one hot encoding and scaling like before\n",
        "droppable_cols = ['srcip', 'sport', 'dstip', 'dsport', 'ltime', 'stime']\n",
        "binary_cols = ['is_sm_ips_ports', 'is_ftp_login']\n",
        "ohe_step = ('ohe', OneHotEncoder(sparse=False))\n",
        "ssc_step = ('std_sclr', StandardScaler())\n",
        "ohe_pipe = Pipeline([ohe_step])\n",
        "ssc_pipe = Pipeline([ssc_step])\n",
        "ohe_cols = ['proto', 'state', 'service']\n",
        "non_ssc_cols = ohe_cols+droppable_cols+binary_cols\n",
        "ssc_cols = [col for col in attackX_train.columns if col not in non_ssc_cols]\n",
        "transformer = [\n",
        "    ('one_hot_encoding', ohe_pipe, ohe_cols),\n",
        "    ('standard_scaling', ssc_pipe, ssc_cols)\n",
        "]\n",
        "ct = ColumnTransformer(transformers=transformer, remainder='passthrough')\n",
        "cat_cols = np.concatenate((np.sort(attackX_train.proto.unique()),\n",
        "                           np.sort(attackX_train.state.unique()),\n",
        "                           np.sort(attackX_train.service.unique())))\n",
        "new_cols =  np.concatenate((cat_cols, ssc_cols, binary_cols))"
      ],
      "execution_count": null,
      "outputs": []
    },
    {
      "cell_type": "code",
      "metadata": {
        "id": "VjDgRHuHqlI3",
        "colab_type": "code",
        "colab": {}
      },
      "source": [
        "#applying the transformations\n",
        "attackX_train=pd.DataFrame(ct.fit_transform(attackX_train.drop(columns=droppable_cols)))\n",
        "attackX_test=pd.DataFrame(ct.transform(attackX_test.drop(columns=droppable_cols)))\n",
        "attackX_train.columns=new_cols\n",
        "attackX_test.columns=new_cols"
      ],
      "execution_count": null,
      "outputs": []
    },
    {
      "cell_type": "code",
      "metadata": {
        "id": "OBu2FJBf6vNX",
        "colab_type": "code",
        "colab": {}
      },
      "source": [
        "#DO NOT RUN - takes 70 minutes\n",
        "#Dimensionality reduction using t-SNE\n",
        "tsne=TSNE()\n",
        "attackX_trainTSNE=tsne.fit_transform(attackX_train)"
      ],
      "execution_count": null,
      "outputs": []
    },
    {
      "cell_type": "code",
      "metadata": {
        "id": "BUcksKKFLVx5",
        "colab_type": "code",
        "colab": {
          "base_uri": "https://localhost:8080/",
          "height": 282
        },
        "outputId": "41461dce-abf0-4bce-f86b-07af15a1a6a9"
      },
      "source": [
        "#visualization using t-SNE\n",
        "sns.scatterplot(attackX_trainTSNE[:,0],attackX_trainTSNE[:,1],hue=attacky_train,legend=\"full\")"
      ],
      "execution_count": null,
      "outputs": [
        {
          "output_type": "execute_result",
          "data": {
            "text/plain": [
              "<matplotlib.axes._subplots.AxesSubplot at 0x7fd263f12b70>"
            ]
          },
          "metadata": {
            "tags": []
          },
          "execution_count": 47
        },
        {
          "output_type": "display_data",
          "data": {
            "image/png": "[encoded data removed]",
            "text/plain": [
              "<Figure size 432x288 with 1 Axes>"
            ]
          },
          "metadata": {
            "tags": [],
            "needs_background": "light"
          }
        }
      ]
    },
    {
      "cell_type": "code",
      "metadata": {
        "id": "oo5xpPNLdk0e",
        "colab_type": "code",
        "colab": {
          "base_uri": "https://localhost:8080/",
          "height": 282
        },
        "outputId": "664f8af8-8717-4057-bd4c-b4927bbba792"
      },
      "source": [
        "#visualization using PCA\n",
        "pca=PCA(n_components=2)\n",
        "attackX_trainPCA=pca.fit_transform(attackX_train)\n",
        "sns.scatterplot(attackX_trainPCA[:,0],attackX_trainPCA[:,1],hue=attacky_train,legend=\"full\")"
      ],
      "execution_count": null,
      "outputs": [
        {
          "output_type": "execute_result",
          "data": {
            "text/plain": [
              "<matplotlib.axes._subplots.AxesSubplot at 0x7fd261bb5358>"
            ]
          },
          "metadata": {
            "tags": []
          },
          "execution_count": 49
        },
        {
          "output_type": "display_data",
          "data": {
            "image/png": "[encoded data removed]",
            "text/plain": [
              "<Figure size 432x288 with 1 Axes>"
            ]
          },
          "metadata": {
            "tags": [],
            "needs_background": "light"
          }
        }
      ]
    },
    {
      "cell_type": "code",
      "metadata": {
        "id": "dRUFn7w0vE9Z",
        "colab_type": "code",
        "colab": {
          "base_uri": "https://localhost:8080/",
          "height": 464
        },
        "outputId": "2de44b6f-9cc2-4c7a-83f1-16bb4fede462"
      },
      "source": [
        "#Random Forest Classifier\n",
        "#has given the best performance so far\n",
        "rfc=RandomForestClassifier(random_state=42)\n",
        "rfc.fit(attackX_train,attacky_train)\n",
        "print(rfc.score(attackX_test,attacky_test))\n",
        "attacky_pred=rfc.predict(attackX_test)\n",
        "print(confusion_matrix(attacky_test,attacky_pred))\n",
        "print(classification_report(attacky_test,attacky_pred))"
      ],
      "execution_count": null,
      "outputs": [
        {
          "output_type": "stream",
          "text": [
            "0.8919650777347216\n",
            "[[   93     1   106   282    50     3     0     0     0]\n",
            " [    0    34   116   249    60     2     3     2     0]\n",
            " [    2     1   810  2288    94    28    17    30     1]\n",
            " [    9     9  1075  7336   262    59   135    20     0]\n",
            " [    4     7   107   432  4258     8     8    25     0]\n",
            " [    4     2   117   467    59 42432     3    12     1]\n",
            " [    1     2   144   478    10     2  2156     3     1]\n",
            " [    0     0     3    37    60     5     5   192     0]\n",
            " [    0     0     0    28     2     1     0     0     4]]\n",
            "                precision    recall  f1-score   support\n",
            "\n",
            "      analysis       0.82      0.17      0.29       535\n",
            "      backdoor       0.61      0.07      0.13       466\n",
            "           dos       0.33      0.25      0.28      3271\n",
            "      exploits       0.63      0.82      0.72      8905\n",
            "       fuzzers       0.88      0.88      0.88      4849\n",
            "       generic       1.00      0.98      0.99     43097\n",
            "reconnaissance       0.93      0.77      0.84      2797\n",
            "     shellcode       0.68      0.64      0.66       302\n",
            "         worms       0.57      0.11      0.19        35\n",
            "\n",
            "      accuracy                           0.89     64257\n",
            "     macro avg       0.72      0.52      0.55     64257\n",
            "  weighted avg       0.89      0.89      0.89     64257\n",
            "\n"
          ],
          "name": "stdout"
        }
      ]
    },
    {
      "cell_type": "code",
      "metadata": {
        "id": "pILgXcHOyy3c",
        "colab_type": "code",
        "colab": {
          "base_uri": "https://localhost:8080/",
          "height": 464
        },
        "outputId": "16207ac1-8d48-4b32-aacb-bfba722aef50"
      },
      "source": [
        "#Decision tree\n",
        "dtc=DecisionTreeClassifier(random_state=42)\n",
        "dtc.fit(attackX_train,attacky_train)\n",
        "print(dtc.score(attackX_test,attacky_test))\n",
        "attacky_pred=dtc.predict(attackX_test)\n",
        "print(confusion_matrix(attacky_test,attacky_pred))\n",
        "print(classification_report(attacky_test,attacky_pred))"
      ],
      "execution_count": null,
      "outputs": [
        {
          "output_type": "stream",
          "text": [
            "0.886502637844904\n",
            "[[   87     1   108   280    48    11     0     0     0]\n",
            " [    2    47   106   271    36     2     1     1     0]\n",
            " [    5     5   996  2109    77    39    23    16     1]\n",
            " [   39    18  1398  6841   274   111   185    27    12]\n",
            " [   20     2   164   488  4106    28     5    36     0]\n",
            " [    8     5   139   351    22 42550     5    16     1]\n",
            " [    0     4   156   485     8     6  2125    12     1]\n",
            " [    0     5    19    44    37     6     5   186     0]\n",
            " [    0     0     1     7     0     0     1     0    26]]\n",
            "                precision    recall  f1-score   support\n",
            "\n",
            "      analysis       0.54      0.16      0.25       535\n",
            "      backdoor       0.54      0.10      0.17       466\n",
            "           dos       0.32      0.30      0.31      3271\n",
            "      exploits       0.63      0.77      0.69      8905\n",
            "       fuzzers       0.89      0.85      0.87      4849\n",
            "       generic       1.00      0.99      0.99     43097\n",
            "reconnaissance       0.90      0.76      0.83      2797\n",
            "     shellcode       0.63      0.62      0.62       302\n",
            "         worms       0.63      0.74      0.68        35\n",
            "\n",
            "      accuracy                           0.89     64257\n",
            "     macro avg       0.68      0.59      0.60     64257\n",
            "  weighted avg       0.89      0.89      0.88     64257\n",
            "\n"
          ],
          "name": "stdout"
        }
      ]
    },
    {
      "cell_type": "code",
      "metadata": {
        "id": "JKDp2-Gwzikx",
        "colab_type": "code",
        "colab": {
          "base_uri": "https://localhost:8080/",
          "height": 464
        },
        "outputId": "ccbd2149-db7f-40c8-bcad-695220f14460"
      },
      "source": [
        "#Guassian Naive Bayes\n",
        "gnb=GaussianNB()\n",
        "gnb.fit(attackX_train,attacky_train)\n",
        "print(gnb.score(attackX_test,attacky_test))\n",
        "attacky_pred=gnb.predict(attackX_test)\n",
        "print(confusion_matrix(attacky_test,attacky_pred))\n",
        "print(classification_report(attacky_test,attacky_pred))"
      ],
      "execution_count": null,
      "outputs": [
        {
          "output_type": "stream",
          "text": [
            "0.69246930295532\n",
            "[[   72   387     0     0     2     0     0     0    74]\n",
            " [   22   372     0     1     1     0     0    42    28]\n",
            " [  170  2350    37    46    23    17     8   140   480]\n",
            " [  262  3078    58   998    45    25     3   521  3915]\n",
            " [  569   696     1    95   638    50   178  1913   709]\n",
            " [   37   314     8    40    14 41999     6   191   488]\n",
            " [   34   423     4     1     8     5    49  1833   440]\n",
            " [    0     0     0     0     0     0     0   302     0]\n",
            " [    0     0     0     0     0     0     0     6    29]]\n",
            "                precision    recall  f1-score   support\n",
            "\n",
            "      analysis       0.06      0.13      0.08       535\n",
            "      backdoor       0.05      0.80      0.09       466\n",
            "           dos       0.34      0.01      0.02      3271\n",
            "      exploits       0.85      0.11      0.20      8905\n",
            "       fuzzers       0.87      0.13      0.23      4849\n",
            "       generic       1.00      0.97      0.99     43097\n",
            "reconnaissance       0.20      0.02      0.03      2797\n",
            "     shellcode       0.06      1.00      0.12       302\n",
            "         worms       0.00      0.83      0.01        35\n",
            "\n",
            "      accuracy                           0.69     64257\n",
            "     macro avg       0.38      0.45      0.20     64257\n",
            "  weighted avg       0.88      0.69      0.71     64257\n",
            "\n"
          ],
          "name": "stdout"
        }
      ]
    },
    {
      "cell_type": "code",
      "metadata": {
        "id": "XuBQpaA32exv",
        "colab_type": "code",
        "colab": {
          "base_uri": "https://localhost:8080/",
          "height": 464
        },
        "outputId": "741ff09a-cae5-4b1b-d390-e35565bda1f2"
      },
      "source": [
        "#K-nearest Neighbor\n",
        "knn=KNeighborsClassifier()\n",
        "knn.fit(attackX_train,attacky_train)\n",
        "print(knn.score(attackX_test,attacky_test))\n",
        "attacky_pred=knn.predict(attackX_test)\n",
        "print(confusion_matrix(attacky_test,attacky_pred))\n",
        "print(classification_report(attacky_test,attacky_pred))"
      ],
      "execution_count": null,
      "outputs": [
        {
          "output_type": "stream",
          "text": [
            "0.8573851876060196\n",
            "[[   65    23   191   223    27     5     1     0     0]\n",
            " [   29     6   163   198    42     2    25     1     0]\n",
            " [  107    40  1245  1639   127    36    64    13     0]\n",
            " [  162    69  1720  6105   488    96   247    15     3]\n",
            " [   51    34   226   521  3751    29   221    16     0]\n",
            " [   15     7   218   484   112 42205    47     9     0]\n",
            " [   10    11   239   536   365     5  1625     5     1]\n",
            " [    0     1     9    34    81     6    84    87     0]\n",
            " [    0     0     0    21     6     2     2     0     4]]\n",
            "                precision    recall  f1-score   support\n",
            "\n",
            "      analysis       0.15      0.12      0.13       535\n",
            "      backdoor       0.03      0.01      0.02       466\n",
            "           dos       0.31      0.38      0.34      3271\n",
            "      exploits       0.63      0.69      0.65      8905\n",
            "       fuzzers       0.75      0.77      0.76      4849\n",
            "       generic       1.00      0.98      0.99     43097\n",
            "reconnaissance       0.70      0.58      0.64      2797\n",
            "     shellcode       0.60      0.29      0.39       302\n",
            "         worms       0.50      0.11      0.19        35\n",
            "\n",
            "      accuracy                           0.86     64257\n",
            "     macro avg       0.52      0.44      0.46     64257\n",
            "  weighted avg       0.86      0.86      0.86     64257\n",
            "\n"
          ],
          "name": "stdout"
        }
      ]
    },
    {
      "cell_type": "markdown",
      "metadata": {
        "id": "F7Ega7iTpplS",
        "colab_type": "text"
      },
      "source": [
        "We observe that though random forest perfoms the best among the above, the precision and recall values of dos, worms and exploits are low.\n",
        "Furthermore, the precision of detecting a dos attack is low for all of the above classifiers, while for generic attacks it is 1.0. "
      ]
    },
    {
      "cell_type": "code",
      "metadata": {
        "id": "Vph0mS11g7GW",
        "colab_type": "code",
        "colab": {
          "base_uri": "https://localhost:8080/",
          "height": 51
        },
        "outputId": "989d200d-0c54-4b56-d811-3999eb5c2143"
      },
      "source": [
        "mask = attacky_train == \"generic\"\n",
        "print(\"No. of generic attacks:\", attacky_train[mask].size)\n",
        "print(\"No. of other attacks: \", attacky_train[~mask].size)"
      ],
      "execution_count": null,
      "outputs": [
        {
          "output_type": "stream",
          "text": [
            "No. of generic attacks: 172384\n",
            "No. of other attacks:  84642\n"
          ],
          "name": "stdout"
        }
      ]
    },
    {
      "cell_type": "markdown",
      "metadata": {
        "id": "vMM0-qHSr9Sf",
        "colab_type": "text"
      },
      "source": [
        "The number of generic attacks in the dataset are more than the all the other attacks combined."
      ]
    },
    {
      "cell_type": "code",
      "metadata": {
        "id": "Dw-jJvUtrvtZ",
        "colab_type": "code",
        "colab": {
          "base_uri": "https://localhost:8080/",
          "height": 34
        },
        "outputId": "9f931a5d-59ad-4eff-da78-1a93a8935a07"
      },
      "source": [
        "attackdata_nogeneric=all_attackdata[all_attackdata[\"attack_cat\"]!='generic']\n",
        "attackdata_nogeneric.shape"
      ],
      "execution_count": null,
      "outputs": [
        {
          "output_type": "execute_result",
          "data": {
            "text/plain": [
              "(105802, 49)"
            ]
          },
          "metadata": {
            "tags": []
          },
          "execution_count": 20
        }
      ]
    },
    {
      "cell_type": "code",
      "metadata": {
        "id": "OcIur5RVVCR6",
        "colab_type": "code",
        "colab": {
          "base_uri": "https://localhost:8080/",
          "height": 137
        },
        "outputId": "6739ea8a-18e1-4f44-ab3b-8daf25c27e1b"
      },
      "source": [
        "attackdata_nogeneric.drop([\"label\"],axis=1,inplace=True)\n",
        "attackdata_nogenericX=attackdata_nogeneric.drop(['attack_cat'],axis=1,inplace=False)\n",
        "attackdata_nogenericy=attackdata_nogeneric[\"attack_cat\"]\n",
        "attackNoGX_train,attackNoGX_test,attackNoGy_train,attackNoGy_test=train_test_split(attackdata_nogenericX,attackdata_nogenericy,test_size=0.2,stratify=attackdata_nogenericy)\n",
        "print(\"Training size:\",attackNoGX_train.shape)\n",
        "print(\"Test set size:\",attackNoGX_test.shape)"
      ],
      "execution_count": null,
      "outputs": [
        {
          "output_type": "stream",
          "text": [
            "/usr/local/lib/python3.6/dist-packages/pandas/core/frame.py:3997: SettingWithCopyWarning: \n",
            "A value is trying to be set on a copy of a slice from a DataFrame\n",
            "\n",
            "See the caveats in the documentation: https://pandas.pydata.org/pandas-docs/stable/user_guide/indexing.html#returning-a-view-versus-a-copy\n",
            "  errors=errors,\n"
          ],
          "name": "stderr"
        },
        {
          "output_type": "stream",
          "text": [
            "Training size: (84641, 47)\n",
            "Test set size: (21161, 47)\n"
          ],
          "name": "stdout"
        }
      ]
    },
    {
      "cell_type": "code",
      "metadata": {
        "id": "lAmp3Sy0VsLQ",
        "colab_type": "code",
        "colab": {}
      },
      "source": [
        "#applying the transformations\n",
        "attackNoGX_train=pd.DataFrame(ct.fit_transform(attackNoGX_train.drop(columns=droppable_cols)))\n",
        "attackNoGX_test=pd.DataFrame(ct.transform(attackNoGX_test.drop(columns=droppable_cols)))\n",
        "attackNoGX_train.columns=new_cols\n",
        "attackNoGX_test.columns=new_cols"
      ],
      "execution_count": null,
      "outputs": []
    },
    {
      "cell_type": "code",
      "metadata": {
        "id": "2aJLwgPhWHts",
        "colab_type": "code",
        "colab": {}
      },
      "source": [
        "tsne=TSNE()\n",
        "attackX_trainTSNE=tsne.fit_transform(attackNoGX_train)"
      ],
      "execution_count": null,
      "outputs": []
    },
    {
      "cell_type": "code",
      "metadata": {
        "id": "rkbrOy_yWZ_l",
        "colab_type": "code",
        "colab": {
          "base_uri": "https://localhost:8080/",
          "height": 282
        },
        "outputId": "addce390-15eb-4aea-9263-f359bea8fad0"
      },
      "source": [
        "#visualization using t-SNE\n",
        "sns.scatterplot(attackX_trainTSNE[:,0],attackX_trainTSNE[:,1],hue=attackNoGy_train,legend=\"full\")"
      ],
      "execution_count": null,
      "outputs": [
        {
          "output_type": "execute_result",
          "data": {
            "text/plain": [
              "<matplotlib.axes._subplots.AxesSubplot at 0x7fcbf7d48390>"
            ]
          },
          "metadata": {
            "tags": []
          },
          "execution_count": 29
        },
        {
          "output_type": "display_data",
          "data": {
            "image/png": "[encoded data removed]",
            "text/plain": [
              "<Figure size 432x288 with 1 Axes>"
            ]
          },
          "metadata": {
            "tags": [],
            "needs_background": "light"
          }
        }
      ]
    },
    {
      "cell_type": "code",
      "metadata": {
        "id": "GoLPDundWvFn",
        "colab_type": "code",
        "colab": {
          "base_uri": "https://localhost:8080/",
          "height": 282
        },
        "outputId": "c2f1dbb8-afcf-48e5-f9f7-1e7bf8700b51"
      },
      "source": [
        "pca=PCA(n_components=2)\n",
        "attackNoGX_trainPCA=pca.fit_transform(attackNoGX_train)\n",
        "sns.scatterplot(attackNoGX_trainPCA[:,0],attackNoGX_trainPCA[:,1],hue=attackNoGy_train,legend=\"full\")"
      ],
      "execution_count": null,
      "outputs": [
        {
          "output_type": "execute_result",
          "data": {
            "text/plain": [
              "<matplotlib.axes._subplots.AxesSubplot at 0x7fcbf7d196d8>"
            ]
          },
          "metadata": {
            "tags": []
          },
          "execution_count": 30
        },
        {
          "output_type": "display_data",
          "data": {
            "image/png": "[encoded data removed]",
            "text/plain": [
              "<Figure size 432x288 with 1 Axes>"
            ]
          },
          "metadata": {
            "tags": [],
            "needs_background": "light"
          }
        }
      ]
    },
    {
      "cell_type": "code",
      "metadata": {
        "id": "G4HcgFeQbaUj",
        "colab_type": "code",
        "colab": {
          "base_uri": "https://localhost:8080/",
          "height": 447
        },
        "outputId": "d181b20a-583f-458a-b058-42abf0531492"
      },
      "source": [
        "rfc=RandomForestClassifier(random_state=42)\n",
        "rfc.fit(attackNoGX_train,attackNoGy_train)\n",
        "print(rfc.score(attackNoGX_train,attackNoGy_train))\n",
        "print(rfc.score(attackNoGX_test,attackNoGy_test))\n",
        "attackNoGy_pred=rfc.predict(attackNoGX_test)\n",
        "print(confusion_matrix(attackNoGy_test,attackNoGy_pred))\n",
        "print(classification_report(attackNoGy_test,attackNoGy_pred))"
      ],
      "execution_count": null,
      "outputs": [
        {
          "output_type": "stream",
          "text": [
            "0.8042319915880011\n",
            "0.7092292424743633\n",
            "[[  90    1  101  297   46    0    0    0]\n",
            " [   1   47  108  250   54    3    3    0]\n",
            " [   2    1  829 2318   84   10   25    2]\n",
            " [  16    8 1009 7476  250  115   27    4]\n",
            " [  10    4  108  476 4229    1   21    0]\n",
            " [   0    2  132  520   15 2128    1    0]\n",
            " [   0    0    5   45   49    1  202    0]\n",
            " [   0    0    0   26    2    0    0    7]]\n",
            "                precision    recall  f1-score   support\n",
            "\n",
            "      analysis       0.76      0.17      0.28       535\n",
            "      backdoor       0.75      0.10      0.18       466\n",
            "           dos       0.36      0.25      0.30      3271\n",
            "      exploits       0.66      0.84      0.74      8905\n",
            "       fuzzers       0.89      0.87      0.88      4849\n",
            "reconnaissance       0.94      0.76      0.84      2798\n",
            "     shellcode       0.72      0.67      0.70       302\n",
            "         worms       0.54      0.20      0.29        35\n",
            "\n",
            "      accuracy                           0.71     21161\n",
            "     macro avg       0.70      0.48      0.52     21161\n",
            "  weighted avg       0.71      0.71      0.69     21161\n",
            "\n"
          ],
          "name": "stdout"
        }
      ]
    },
    {
      "cell_type": "code",
      "metadata": {
        "id": "P0DDk4TKbvRE",
        "colab_type": "code",
        "colab": {
          "base_uri": "https://localhost:8080/",
          "height": 501
        },
        "outputId": "6bdc0054-8fc6-4557-91f8-fdfb56f359e4"
      },
      "source": [
        "svm=SVC(gamma='auto')\n",
        "svm.fit(attackNoGX_train,attackNoGy_train)\n",
        "print(svm.score(attackNoGX_train,attackNoGy_train))\n",
        "print(svm.score(attackNoGX_test,attackNoGy_test))\n",
        "attackNoGy_pred=svm.predict(attackNoGX_test)\n",
        "print(confusion_matrix(attackNoGy_test,attackNoGy_pred))\n",
        "print(classification_report(attackNoGy_test,attackNoGy_pred))"
      ],
      "execution_count": null,
      "outputs": [
        {
          "output_type": "stream",
          "text": [
            "0.6698763010833994\n",
            "0.6635319691886017\n",
            "[[  43    0    0  491    1    0    0    0]\n",
            " [   0    0    0  421   13   32    0    0]\n",
            " [   1    0   34 3084   80   64    8    0]\n",
            " [  12    0    4 8297  392  186   14    0]\n",
            " [   8    0   11  711 3884  231    4    0]\n",
            " [   1    0    7  828  215 1747    0    0]\n",
            " [   0    0    0   12   51  206   33    0]\n",
            " [   0    0    0   27    5    0    0    3]]\n"
          ],
          "name": "stdout"
        },
        {
          "output_type": "stream",
          "text": [
            "/usr/local/lib/python3.6/dist-packages/sklearn/metrics/_classification.py:1272: UndefinedMetricWarning: Precision and F-score are ill-defined and being set to 0.0 in labels with no predicted samples. Use `zero_division` parameter to control this behavior.\n",
            "  _warn_prf(average, modifier, msg_start, len(result))\n"
          ],
          "name": "stderr"
        },
        {
          "output_type": "stream",
          "text": [
            "                precision    recall  f1-score   support\n",
            "\n",
            "      analysis       0.66      0.08      0.14       535\n",
            "      backdoor       0.00      0.00      0.00       466\n",
            "           dos       0.61      0.01      0.02      3271\n",
            "      exploits       0.60      0.93      0.73      8905\n",
            "       fuzzers       0.84      0.80      0.82      4849\n",
            "reconnaissance       0.71      0.62      0.66      2798\n",
            "     shellcode       0.56      0.11      0.18       302\n",
            "         worms       1.00      0.09      0.16        35\n",
            "\n",
            "      accuracy                           0.66     21161\n",
            "     macro avg       0.62      0.33      0.34     21161\n",
            "  weighted avg       0.66      0.66      0.59     21161\n",
            "\n"
          ],
          "name": "stdout"
        }
      ]
    },
    {
      "cell_type": "code",
      "metadata": {
        "id": "CZDA2FvgjpFO",
        "colab_type": "code",
        "colab": {}
      },
      "source": [
        ""
      ],
      "execution_count": null,
      "outputs": []
    }
  ]
}